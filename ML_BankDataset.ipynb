{
  "nbformat": 4,
  "nbformat_minor": 0,
  "metadata": {
    "kernelspec": {
      "display_name": "Python 3",
      "language": "python",
      "name": "python3"
    },
    "language_info": {
      "codemirror_mode": {
        "name": "ipython",
        "version": 3
      },
      "file_extension": ".py",
      "mimetype": "text/x-python",
      "name": "python",
      "nbconvert_exporter": "python",
      "pygments_lexer": "ipython3",
      "version": "3.8.3"
    },
    "toc": {
      "base_numbering": 1,
      "nav_menu": {},
      "number_sections": true,
      "sideBar": true,
      "skip_h1_title": false,
      "title_cell": "Table of Contents",
      "title_sidebar": "Contents",
      "toc_cell": false,
      "toc_position": {
        "height": "47.6px",
        "left": "656.8px",
        "top": "208px",
        "width": "165px"
      },
      "toc_section_display": true,
      "toc_window_display": false
    },
    "colab": {
      "name": "ML_BankDataset.ipynb",
      "provenance": [],
      "collapsed_sections": []
    }
  },
  "cells": [
    {
      "cell_type": "markdown",
      "metadata": {
        "id": "QwKVFeaqA2p9"
      },
      "source": [
        "**Sumber : https://www.kaggle.com/santoshd3/bank-customers**"
      ]
    },
    {
      "cell_type": "markdown",
      "metadata": {
        "id": "gjbjPyGnA2p_"
      },
      "source": [
        "# Importing Modules and Files"
      ]
    },
    {
      "cell_type": "code",
      "metadata": {
        "id": "5HgbOw0EA2qA",
        "outputId": "a2fd69d4-bd7c-4e61-a29d-a2490ceea9c4",
        "colab": {
          "base_uri": "https://localhost:8080/"
        }
      },
      "source": [
        "from google.colab import drive\n",
        "drive.mount('/content/drive')"
      ],
      "execution_count": 1,
      "outputs": [
        {
          "output_type": "stream",
          "text": [
            "Mounted at /content/drive\n"
          ],
          "name": "stdout"
        }
      ]
    },
    {
      "cell_type": "code",
      "metadata": {
        "code_folding": [
          0
        ],
        "id": "SO1ZKqy6A2qI",
        "outputId": "3f218957-ecb3-4cbd-a674-9847dd766754",
        "colab": {
          "base_uri": "https://localhost:8080/",
          "height": 114
        }
      },
      "source": [
        "# Modules needed\n",
        "import pandas as pd, matplotlib.pyplot as plt, seaborn as sns, numpy as np, math, warnings\n",
        "from collections import Counter\n",
        "from scipy import stats as ss\n",
        "from sklearn.utils import resample\n",
        "from scipy.stats import skew, iqr\n",
        "from sklearn.svm import SVC\n",
        "from xgboost import XGBClassifier\n",
        "from sklearn.ensemble import RandomForestClassifier\n",
        "from sklearn.model_selection import train_test_split, GridSearchCV, RandomizedSearchCV\n",
        "from sklearn.metrics import classification_report, confusion_matrix, recall_score, precision_score, f1_score, accuracy_score\n",
        "from sklearn.preprocessing import StandardScaler, MinMaxScaler, RobustScaler\n",
        "from sklearn.utils import resample\n",
        "\n",
        "# Adjust cell width to enhance data display\n",
        "from IPython.core.display import display, HTML\n",
        "display(HTML(\"<style>.container { width:100% !important; }</style>\"))\n",
        "\n",
        "# Ignores warning\n",
        "warnings.filterwarnings(\"ignore\")\n",
        "\n",
        "# Read file and drop unnecessary columns\n",
        "data = pd.read_csv(\"/content/drive/My Drive/data/bank_dataset.csv\").drop([\"RowNumber\", \"CustomerId\", \"Surname\"], 1)\n",
        "\n",
        "print(\"Data structure :\")\n",
        "display(data.head(1))\n",
        "print(\"Data length : \", len(data), \" rows\")"
      ],
      "execution_count": 2,
      "outputs": [
        {
          "output_type": "display_data",
          "data": {
            "text/html": [
              "<style>.container { width:100% !important; }</style>"
            ],
            "text/plain": [
              "<IPython.core.display.HTML object>"
            ]
          },
          "metadata": {
            "tags": []
          }
        },
        {
          "output_type": "stream",
          "text": [
            "Data structure :\n"
          ],
          "name": "stdout"
        },
        {
          "output_type": "display_data",
          "data": {
            "text/html": [
              "<div>\n",
              "<style scoped>\n",
              "    .dataframe tbody tr th:only-of-type {\n",
              "        vertical-align: middle;\n",
              "    }\n",
              "\n",
              "    .dataframe tbody tr th {\n",
              "        vertical-align: top;\n",
              "    }\n",
              "\n",
              "    .dataframe thead th {\n",
              "        text-align: right;\n",
              "    }\n",
              "</style>\n",
              "<table border=\"1\" class=\"dataframe\">\n",
              "  <thead>\n",
              "    <tr style=\"text-align: right;\">\n",
              "      <th></th>\n",
              "      <th>CreditScore</th>\n",
              "      <th>Geography</th>\n",
              "      <th>Gender</th>\n",
              "      <th>Age</th>\n",
              "      <th>Tenure</th>\n",
              "      <th>Balance</th>\n",
              "      <th>NumOfProducts</th>\n",
              "      <th>HasCrCard</th>\n",
              "      <th>IsActiveMember</th>\n",
              "      <th>EstimatedSalary</th>\n",
              "      <th>Exited</th>\n",
              "    </tr>\n",
              "  </thead>\n",
              "  <tbody>\n",
              "    <tr>\n",
              "      <th>0</th>\n",
              "      <td>619</td>\n",
              "      <td>France</td>\n",
              "      <td>Female</td>\n",
              "      <td>42</td>\n",
              "      <td>2</td>\n",
              "      <td>0.0</td>\n",
              "      <td>1</td>\n",
              "      <td>1</td>\n",
              "      <td>1</td>\n",
              "      <td>101348.88</td>\n",
              "      <td>1</td>\n",
              "    </tr>\n",
              "  </tbody>\n",
              "</table>\n",
              "</div>"
            ],
            "text/plain": [
              "   CreditScore Geography  Gender  ...  IsActiveMember  EstimatedSalary  Exited\n",
              "0          619    France  Female  ...               1        101348.88       1\n",
              "\n",
              "[1 rows x 11 columns]"
            ]
          },
          "metadata": {
            "tags": []
          }
        },
        {
          "output_type": "stream",
          "text": [
            "Data length :  10000  rows\n"
          ],
          "name": "stdout"
        }
      ]
    },
    {
      "cell_type": "markdown",
      "metadata": {
        "id": "JfPQMIWZA2qO"
      },
      "source": [
        "**Headers Info**\n",
        "\n",
        "These informations are not obtained from the data author since he gives no info at all. So, from logical reasoning and other notebooks, I try to understand and define it by myself as following:\n",
        "- CreditScore : Customers score based on their credit activities with the bank (increment in credit transaction means increment in credit score)\n",
        "- Geography : Country of origin\n",
        "- Gender : Gender\n",
        "- Age : Age\n",
        "- Tenure : The last customer's credit tenure period in months (0 means no credit transaction at the given time)\n",
        "- Balance : Current customer's balance when the data is obtained\n",
        "- NumOfProducts : Number of bank's products the customers have (products is assumed as types of account, fixed deposits, car insurance , home loan, etc)\n",
        "- HasCrCard : Etiher the customers have credit card or not\n",
        "- IsActiveMember : This variable is believed as customer's activeness indicator based on their activeness to join / involved in bank's program / promotion.\n",
        "- EstimatedSalary : Estimated customer's salary at the given time\n",
        "- Exited : Either customer is staying or not"
      ]
    },
    {
      "cell_type": "markdown",
      "metadata": {
        "id": "xONk-AorA2qP"
      },
      "source": [
        "# Business Problem"
      ]
    },
    {
      "cell_type": "markdown",
      "metadata": {
        "id": "jJE37KrbA2qP"
      },
      "source": [
        "Churned customers isn't a stand alone problem. It always bring bigger problem when it comes to bank competition and survival. As we know, bank lives by controlling, managing, and regulating its customers money in such a way to gain profit by applying interest to them. So customers savings and transactions are the most important things to keep the wheel spinning. Hence, exiting customers will definitely affect the cycle. Not only that, there's also a high chance that they move to other competitors. Besides profit loss, it can affect the bank's sentiments too. Exiting customers must have a logical reasoning behind their decision, either it's a financial problem (e.g. bank doesn't give them profitable interest), managerial problem (e.g. difficulty in proposing loan), or even personal problem (with the bank's representative, e.g. Relationship Officer or Customer Service). Thus, this problem must be seriously handled and even if it can, must be prevented."
      ]
    },
    {
      "cell_type": "code",
      "metadata": {
        "code_folding": [
          0,
          11
        ],
        "id": "zGw07vHeA2qQ",
        "outputId": "6da91757-3dc7-446a-aa48-e8ee925b17f8",
        "colab": {
          "base_uri": "https://localhost:8080/",
          "height": 334
        }
      },
      "source": [
        "# Visualizing churn proportion\n",
        "# Maka itu, subplots harus digunakan untuk dapat memberi warna, ukuran, dan style yang berbeda terhadap keduanya. \n",
        "\n",
        "fig, churnMember = plt.subplots() #subplots is used to set color, size, and style for percentage and label respectively\n",
        "percentage, label, chart = churnMember.pie(\n",
        "        data.groupby(\"Exited\").count()[\"CreditScore\"], explode = (.01, .05),\n",
        "        labels = [\"No\", \"Yes\"], autopct = \"%1.1f%%\", startangle = 40,\n",
        "        colors = [\"grey\", \"red\"], textprops = {\"size\" : 15,\"color\" : \"black\"},\n",
        "        radius = 1.5)\n",
        "\n",
        "plt.setp(chart, **{\"color\" : \"white\", \"weight\" :\"bold\", \"fontsize\" : 15})\n",
        "plt.title(\"Churn Proportion\", fontdict = {'fontsize': 17,\n",
        "        'fontweight' : \"bold\",\n",
        "        'color' : \"black\",\n",
        "        'verticalalignment': 'baseline',\n",
        "        'horizontalalignment': \"center\"\n",
        "        }, y = 1.2)\n",
        "\n",
        "plt.show()"
      ],
      "execution_count": 3,
      "outputs": [
        {
          "output_type": "display_data",
          "data": {
            "image/png": "[encoded data removed]",
            "text/plain": [
              "<Figure size 432x288 with 1 Axes>"
            ]
          },
          "metadata": {
            "tags": []
          }
        }
      ]
    },
    {
      "cell_type": "markdown",
      "metadata": {
        "id": "e-s2-tp_A2qU"
      },
      "source": [
        "Looking at the data, we have 20.4% customers whose exited. It seems like not a big number. But, if we put the percentage into the above context we will understand why 20.4% is an important alert."
      ]
    },
    {
      "cell_type": "markdown",
      "metadata": {
        "id": "ZoNFGVn7A2qV"
      },
      "source": [
        "# Goals"
      ]
    },
    {
      "cell_type": "markdown",
      "metadata": {
        "id": "dVRhF5QyA2qW"
      },
      "source": [
        "The goals are simply and solely to find correlation between customer's variables and their exiting decision. Those analysis will help us to understand the context better. Also we will build a model to predict either they will exit or not. In the end, the deployed system (later) will help the bank to maintain its remaining customers. It will also help Relationship Officer division (or similar) to understand their customers better, so expected approach can be conducted. The bank also can find this useful to review and re - train their Customer Service behaviour and communication approach (applying special approach to customers whose predicted to most likely churn)."
      ]
    },
    {
      "cell_type": "markdown",
      "metadata": {
        "id": "vm0fmXSbA2qY"
      },
      "source": [
        "# Variables Overview"
      ]
    },
    {
      "cell_type": "code",
      "metadata": {
        "code_folding": [],
        "id": "5BN2CGe0A2qZ",
        "outputId": "70e99e28-7684-48bd-9d68-10d56e514e28",
        "colab": {
          "base_uri": "https://localhost:8080/",
          "height": 407
        }
      },
      "source": [
        "# Data description\n",
        "dataDesc = []\n",
        "for x in data.columns:\n",
        "    dataDesc.append([\n",
        "        x,\n",
        "        data[x].dtypes,\n",
        "        data[x].isnull().sum(),\n",
        "        round((((data[x].isnull().sum()) / (len(data))) * 100), 2),\n",
        "        len(data[x].unique()),\n",
        "        data[x].drop_duplicates().sample(2).values\n",
        "    ])\n",
        "\n",
        "print(\"Variables description :\")\n",
        "display(pd.DataFrame(data = dataDesc, columns = [\n",
        "    \"Columns Name\",\n",
        "    \"Data Type\",\n",
        "    \"NULL\",\n",
        "    \"NULL Percentage\",\n",
        "    \"Unique\",\n",
        "    \"Unique Samples\"\n",
        "]))"
      ],
      "execution_count": 4,
      "outputs": [
        {
          "output_type": "stream",
          "text": [
            "Variables description :\n"
          ],
          "name": "stdout"
        },
        {
          "output_type": "display_data",
          "data": {
            "text/html": [
              "<div>\n",
              "<style scoped>\n",
              "    .dataframe tbody tr th:only-of-type {\n",
              "        vertical-align: middle;\n",
              "    }\n",
              "\n",
              "    .dataframe tbody tr th {\n",
              "        vertical-align: top;\n",
              "    }\n",
              "\n",
              "    .dataframe thead th {\n",
              "        text-align: right;\n",
              "    }\n",
              "</style>\n",
              "<table border=\"1\" class=\"dataframe\">\n",
              "  <thead>\n",
              "    <tr style=\"text-align: right;\">\n",
              "      <th></th>\n",
              "      <th>Columns Name</th>\n",
              "      <th>Data Type</th>\n",
              "      <th>NULL</th>\n",
              "      <th>NULL Percentage</th>\n",
              "      <th>Unique</th>\n",
              "      <th>Unique Samples</th>\n",
              "    </tr>\n",
              "  </thead>\n",
              "  <tbody>\n",
              "    <tr>\n",
              "      <th>0</th>\n",
              "      <td>CreditScore</td>\n",
              "      <td>int64</td>\n",
              "      <td>0</td>\n",
              "      <td>0.0</td>\n",
              "      <td>460</td>\n",
              "      <td>[513, 475]</td>\n",
              "    </tr>\n",
              "    <tr>\n",
              "      <th>1</th>\n",
              "      <td>Geography</td>\n",
              "      <td>object</td>\n",
              "      <td>0</td>\n",
              "      <td>0.0</td>\n",
              "      <td>3</td>\n",
              "      <td>[France, Germany]</td>\n",
              "    </tr>\n",
              "    <tr>\n",
              "      <th>2</th>\n",
              "      <td>Gender</td>\n",
              "      <td>object</td>\n",
              "      <td>0</td>\n",
              "      <td>0.0</td>\n",
              "      <td>2</td>\n",
              "      <td>[Female, Male]</td>\n",
              "    </tr>\n",
              "    <tr>\n",
              "      <th>3</th>\n",
              "      <td>Age</td>\n",
              "      <td>int64</td>\n",
              "      <td>0</td>\n",
              "      <td>0.0</td>\n",
              "      <td>70</td>\n",
              "      <td>[38, 48]</td>\n",
              "    </tr>\n",
              "    <tr>\n",
              "      <th>4</th>\n",
              "      <td>Tenure</td>\n",
              "      <td>int64</td>\n",
              "      <td>0</td>\n",
              "      <td>0.0</td>\n",
              "      <td>11</td>\n",
              "      <td>[0, 10]</td>\n",
              "    </tr>\n",
              "    <tr>\n",
              "      <th>5</th>\n",
              "      <td>Balance</td>\n",
              "      <td>float64</td>\n",
              "      <td>0</td>\n",
              "      <td>0.0</td>\n",
              "      <td>6382</td>\n",
              "      <td>[163708.58, 137727.34]</td>\n",
              "    </tr>\n",
              "    <tr>\n",
              "      <th>6</th>\n",
              "      <td>NumOfProducts</td>\n",
              "      <td>int64</td>\n",
              "      <td>0</td>\n",
              "      <td>0.0</td>\n",
              "      <td>4</td>\n",
              "      <td>[4, 1]</td>\n",
              "    </tr>\n",
              "    <tr>\n",
              "      <th>7</th>\n",
              "      <td>HasCrCard</td>\n",
              "      <td>int64</td>\n",
              "      <td>0</td>\n",
              "      <td>0.0</td>\n",
              "      <td>2</td>\n",
              "      <td>[0, 1]</td>\n",
              "    </tr>\n",
              "    <tr>\n",
              "      <th>8</th>\n",
              "      <td>IsActiveMember</td>\n",
              "      <td>int64</td>\n",
              "      <td>0</td>\n",
              "      <td>0.0</td>\n",
              "      <td>2</td>\n",
              "      <td>[0, 1]</td>\n",
              "    </tr>\n",
              "    <tr>\n",
              "      <th>9</th>\n",
              "      <td>EstimatedSalary</td>\n",
              "      <td>float64</td>\n",
              "      <td>0</td>\n",
              "      <td>0.0</td>\n",
              "      <td>9999</td>\n",
              "      <td>[136934.91, 101039.53]</td>\n",
              "    </tr>\n",
              "    <tr>\n",
              "      <th>10</th>\n",
              "      <td>Exited</td>\n",
              "      <td>int64</td>\n",
              "      <td>0</td>\n",
              "      <td>0.0</td>\n",
              "      <td>2</td>\n",
              "      <td>[0, 1]</td>\n",
              "    </tr>\n",
              "  </tbody>\n",
              "</table>\n",
              "</div>"
            ],
            "text/plain": [
              "       Columns Name Data Type  ...  Unique          Unique Samples\n",
              "0       CreditScore     int64  ...     460              [513, 475]\n",
              "1         Geography    object  ...       3       [France, Germany]\n",
              "2            Gender    object  ...       2          [Female, Male]\n",
              "3               Age     int64  ...      70                [38, 48]\n",
              "4            Tenure     int64  ...      11                 [0, 10]\n",
              "5           Balance   float64  ...    6382  [163708.58, 137727.34]\n",
              "6     NumOfProducts     int64  ...       4                  [4, 1]\n",
              "7         HasCrCard     int64  ...       2                  [0, 1]\n",
              "8    IsActiveMember     int64  ...       2                  [0, 1]\n",
              "9   EstimatedSalary   float64  ...    9999  [136934.91, 101039.53]\n",
              "10           Exited     int64  ...       2                  [0, 1]\n",
              "\n",
              "[11 rows x 6 columns]"
            ]
          },
          "metadata": {
            "tags": []
          }
        }
      ]
    },
    {
      "cell_type": "markdown",
      "metadata": {
        "id": "fuwx8phIA2qf"
      },
      "source": [
        "The data looks perfect with no missing values. Also there's no column to be transformed right now besides **Age** (further encoding for string columns is needed when processing the model)."
      ]
    },
    {
      "cell_type": "code",
      "metadata": {
        "code_folding": [
          0
        ],
        "id": "j12Dg968A2qg"
      },
      "source": [
        "# Adding ageRange column to better visualize and classify the data.\n",
        "# Range is set to 5 years because I think it's the most appropriate number.\n",
        "# Take an example of 8 or 10 years. Customer whose 18 years old will join the 18 - 26 years old or 18 - 28 years old category.\n",
        "# This can lead to data misunderstanding and conclusion fallacy since 18 years old customer (still in college) doesn't have fixed income yet like 25 - 28 years old customer did.\n",
        "# On the other hand if we lower the range (e.g. 3 years old), then it'll be hard to visualize the data since there will be a lot of categories.\n",
        "# This ageRange is used to understand customer's common behaviour better.\n",
        "ageRange, ar = [], range(data[\"Age\"].min(), data[\"Age\"].max(), 5)\n",
        "\n",
        "for a in data[\"Age\"]:\n",
        "    count = -1\n",
        "    for i, r in enumerate(ar):\n",
        "        count += 1\n",
        "        try:\n",
        "            if (r + count) <= a <= (ar[i + 1] + count):\n",
        "                ageRange.append(f\"{r + count} - {ar[i + 1] + count}\")\n",
        "                break\n",
        "            elif (ar[i + 1] + count + 1) <= a <= (ar[i + 2] + count + 1):\n",
        "                ageRange.append(f\"{ar[i + 1] + count + 1} - {ar[i + 2] + count + 1}\")\n",
        "                break\n",
        "        except:\n",
        "            ageRange.append(f\"> {r + 1}\")\n",
        "            break\n",
        "                \n",
        "data[\"ageRange\"] = ageRange"
      ],
      "execution_count": 5,
      "outputs": []
    },
    {
      "cell_type": "code",
      "metadata": {
        "code_folding": [
          0
        ],
        "id": "2o5CxQZYA2qk",
        "outputId": "5c7207b3-f4af-4f73-eba5-934a6bfbe984",
        "colab": {
          "base_uri": "https://localhost:8080/",
          "height": 97
        }
      },
      "source": [
        "# New structure\n",
        "print(\"New data structure :\")\n",
        "display(data.head(1))"
      ],
      "execution_count": 6,
      "outputs": [
        {
          "output_type": "stream",
          "text": [
            "New data structure :\n"
          ],
          "name": "stdout"
        },
        {
          "output_type": "display_data",
          "data": {
            "text/html": [
              "<div>\n",
              "<style scoped>\n",
              "    .dataframe tbody tr th:only-of-type {\n",
              "        vertical-align: middle;\n",
              "    }\n",
              "\n",
              "    .dataframe tbody tr th {\n",
              "        vertical-align: top;\n",
              "    }\n",
              "\n",
              "    .dataframe thead th {\n",
              "        text-align: right;\n",
              "    }\n",
              "</style>\n",
              "<table border=\"1\" class=\"dataframe\">\n",
              "  <thead>\n",
              "    <tr style=\"text-align: right;\">\n",
              "      <th></th>\n",
              "      <th>CreditScore</th>\n",
              "      <th>Geography</th>\n",
              "      <th>Gender</th>\n",
              "      <th>Age</th>\n",
              "      <th>Tenure</th>\n",
              "      <th>Balance</th>\n",
              "      <th>NumOfProducts</th>\n",
              "      <th>HasCrCard</th>\n",
              "      <th>IsActiveMember</th>\n",
              "      <th>EstimatedSalary</th>\n",
              "      <th>Exited</th>\n",
              "      <th>ageRange</th>\n",
              "    </tr>\n",
              "  </thead>\n",
              "  <tbody>\n",
              "    <tr>\n",
              "      <th>0</th>\n",
              "      <td>619</td>\n",
              "      <td>France</td>\n",
              "      <td>Female</td>\n",
              "      <td>42</td>\n",
              "      <td>2</td>\n",
              "      <td>0.0</td>\n",
              "      <td>1</td>\n",
              "      <td>1</td>\n",
              "      <td>1</td>\n",
              "      <td>101348.88</td>\n",
              "      <td>1</td>\n",
              "      <td>42 - 47</td>\n",
              "    </tr>\n",
              "  </tbody>\n",
              "</table>\n",
              "</div>"
            ],
            "text/plain": [
              "   CreditScore Geography  Gender  ...  EstimatedSalary  Exited  ageRange\n",
              "0          619    France  Female  ...        101348.88       1   42 - 47\n",
              "\n",
              "[1 rows x 12 columns]"
            ]
          },
          "metadata": {
            "tags": []
          }
        }
      ]
    },
    {
      "cell_type": "markdown",
      "metadata": {
        "id": "dB_B3b27A2qp"
      },
      "source": [
        "# Distribution, Outliers, and Correlation"
      ]
    },
    {
      "cell_type": "code",
      "metadata": {
        "code_folding": [
          0
        ],
        "id": "MiC9YgzgA2qq"
      },
      "source": [
        "# Defines formulas to check association\n",
        "def correlation_ratio(categories, measurement):\n",
        "    fcat, _ = pd.factorize(categories)\n",
        "    cat_num = np.max(fcat)+1\n",
        "    y_avg_array = np.zeros(cat_num)\n",
        "    n_array = np.zeros(cat_num)\n",
        "    for i in range(0, cat_num):\n",
        "        cat_measure = measurement[np.argwhere(fcat == i).flatten()]\n",
        "        n_array[i] = len(cat_measure)\n",
        "        y_avg_array[i] = np.average(cat_measure)\n",
        "    y_total_avg = np.sum(np.multiply(y_avg_array, n_array))/np.sum(n_array)\n",
        "    numerator = np.sum(np.multiply(n_array, np.power(np.subtract(y_avg_array, y_total_avg), 2)))\n",
        "    denominator = np.sum(np.power(np.subtract(measurement, y_total_avg), 2))\n",
        "    if numerator == 0:\n",
        "        eta = 0.0\n",
        "    else:\n",
        "        eta = np.sqrt(numerator/denominator)\n",
        "    return eta\n",
        "\n",
        "def conditional_entropy(x, y):\n",
        "    y_counter = Counter(y)\n",
        "    xy_counter = Counter(list(zip(x,y)))\n",
        "    total_occurences = sum(y_counter.values())\n",
        "    entropy = 0\n",
        "    for xy in xy_counter.keys():\n",
        "        p_xy = xy_counter[xy] / total_occurences\n",
        "        p_y = y_counter[xy[1]] / total_occurences\n",
        "        entropy += p_xy * math.log(p_y/p_xy)\n",
        "    return entropy\n",
        "\n",
        "def theils_u(x, y):\n",
        "    s_xy = conditional_entropy(x, y)\n",
        "    x_counter = Counter(x)\n",
        "    total_occurences = sum(x_counter.values())\n",
        "    p_x = list(map(lambda n: n/total_occurences, x_counter.values()))\n",
        "    s_x = ss.entropy(p_x)\n",
        "    if s_x == 0:\n",
        "        return 1\n",
        "    else :\n",
        "        return (s_x - s_xy) / s_x"
      ],
      "execution_count": 7,
      "outputs": []
    },
    {
      "cell_type": "code",
      "metadata": {
        "code_folding": [
          0
        ],
        "id": "NpPgpm2DA2qu",
        "outputId": "f0d25749-79a2-4c6d-d228-00c59da8a031",
        "colab": {
          "base_uri": "https://localhost:8080/",
          "height": 314
        }
      },
      "source": [
        "# Quantitative report\n",
        "print(\"Data quantitative report :\")\n",
        "display(data.describe())"
      ],
      "execution_count": 8,
      "outputs": [
        {
          "output_type": "stream",
          "text": [
            "Data quantitative report :\n"
          ],
          "name": "stdout"
        },
        {
          "output_type": "display_data",
          "data": {
            "text/html": [
              "<div>\n",
              "<style scoped>\n",
              "    .dataframe tbody tr th:only-of-type {\n",
              "        vertical-align: middle;\n",
              "    }\n",
              "\n",
              "    .dataframe tbody tr th {\n",
              "        vertical-align: top;\n",
              "    }\n",
              "\n",
              "    .dataframe thead th {\n",
              "        text-align: right;\n",
              "    }\n",
              "</style>\n",
              "<table border=\"1\" class=\"dataframe\">\n",
              "  <thead>\n",
              "    <tr style=\"text-align: right;\">\n",
              "      <th></th>\n",
              "      <th>CreditScore</th>\n",
              "      <th>Age</th>\n",
              "      <th>Tenure</th>\n",
              "      <th>Balance</th>\n",
              "      <th>NumOfProducts</th>\n",
              "      <th>HasCrCard</th>\n",
              "      <th>IsActiveMember</th>\n",
              "      <th>EstimatedSalary</th>\n",
              "      <th>Exited</th>\n",
              "    </tr>\n",
              "  </thead>\n",
              "  <tbody>\n",
              "    <tr>\n",
              "      <th>count</th>\n",
              "      <td>10000.000000</td>\n",
              "      <td>10000.000000</td>\n",
              "      <td>10000.000000</td>\n",
              "      <td>10000.000000</td>\n",
              "      <td>10000.000000</td>\n",
              "      <td>10000.00000</td>\n",
              "      <td>10000.000000</td>\n",
              "      <td>10000.000000</td>\n",
              "      <td>10000.000000</td>\n",
              "    </tr>\n",
              "    <tr>\n",
              "      <th>mean</th>\n",
              "      <td>650.528800</td>\n",
              "      <td>38.921800</td>\n",
              "      <td>5.012800</td>\n",
              "      <td>76485.889288</td>\n",
              "      <td>1.530200</td>\n",
              "      <td>0.70550</td>\n",
              "      <td>0.515100</td>\n",
              "      <td>100090.239881</td>\n",
              "      <td>0.203700</td>\n",
              "    </tr>\n",
              "    <tr>\n",
              "      <th>std</th>\n",
              "      <td>96.653299</td>\n",
              "      <td>10.487806</td>\n",
              "      <td>2.892174</td>\n",
              "      <td>62397.405202</td>\n",
              "      <td>0.581654</td>\n",
              "      <td>0.45584</td>\n",
              "      <td>0.499797</td>\n",
              "      <td>57510.492818</td>\n",
              "      <td>0.402769</td>\n",
              "    </tr>\n",
              "    <tr>\n",
              "      <th>min</th>\n",
              "      <td>350.000000</td>\n",
              "      <td>18.000000</td>\n",
              "      <td>0.000000</td>\n",
              "      <td>0.000000</td>\n",
              "      <td>1.000000</td>\n",
              "      <td>0.00000</td>\n",
              "      <td>0.000000</td>\n",
              "      <td>11.580000</td>\n",
              "      <td>0.000000</td>\n",
              "    </tr>\n",
              "    <tr>\n",
              "      <th>25%</th>\n",
              "      <td>584.000000</td>\n",
              "      <td>32.000000</td>\n",
              "      <td>3.000000</td>\n",
              "      <td>0.000000</td>\n",
              "      <td>1.000000</td>\n",
              "      <td>0.00000</td>\n",
              "      <td>0.000000</td>\n",
              "      <td>51002.110000</td>\n",
              "      <td>0.000000</td>\n",
              "    </tr>\n",
              "    <tr>\n",
              "      <th>50%</th>\n",
              "      <td>652.000000</td>\n",
              "      <td>37.000000</td>\n",
              "      <td>5.000000</td>\n",
              "      <td>97198.540000</td>\n",
              "      <td>1.000000</td>\n",
              "      <td>1.00000</td>\n",
              "      <td>1.000000</td>\n",
              "      <td>100193.915000</td>\n",
              "      <td>0.000000</td>\n",
              "    </tr>\n",
              "    <tr>\n",
              "      <th>75%</th>\n",
              "      <td>718.000000</td>\n",
              "      <td>44.000000</td>\n",
              "      <td>7.000000</td>\n",
              "      <td>127644.240000</td>\n",
              "      <td>2.000000</td>\n",
              "      <td>1.00000</td>\n",
              "      <td>1.000000</td>\n",
              "      <td>149388.247500</td>\n",
              "      <td>0.000000</td>\n",
              "    </tr>\n",
              "    <tr>\n",
              "      <th>max</th>\n",
              "      <td>850.000000</td>\n",
              "      <td>92.000000</td>\n",
              "      <td>10.000000</td>\n",
              "      <td>250898.090000</td>\n",
              "      <td>4.000000</td>\n",
              "      <td>1.00000</td>\n",
              "      <td>1.000000</td>\n",
              "      <td>199992.480000</td>\n",
              "      <td>1.000000</td>\n",
              "    </tr>\n",
              "  </tbody>\n",
              "</table>\n",
              "</div>"
            ],
            "text/plain": [
              "        CreditScore           Age  ...  EstimatedSalary        Exited\n",
              "count  10000.000000  10000.000000  ...     10000.000000  10000.000000\n",
              "mean     650.528800     38.921800  ...    100090.239881      0.203700\n",
              "std       96.653299     10.487806  ...     57510.492818      0.402769\n",
              "min      350.000000     18.000000  ...        11.580000      0.000000\n",
              "25%      584.000000     32.000000  ...     51002.110000      0.000000\n",
              "50%      652.000000     37.000000  ...    100193.915000      0.000000\n",
              "75%      718.000000     44.000000  ...    149388.247500      0.000000\n",
              "max      850.000000     92.000000  ...    199992.480000      1.000000\n",
              "\n",
              "[8 rows x 9 columns]"
            ]
          },
          "metadata": {
            "tags": []
          }
        }
      ]
    },
    {
      "cell_type": "markdown",
      "metadata": {
        "id": "Gxzp40UsA2qx"
      },
      "source": [
        "**Age** and **Balance** seem to have outliers based on their Q3 - max value gap. Meanwhile other variables looks fine. But, for further checking we will look deeper to each features distribution and also their correlation / association with target (price range)."
      ]
    },
    {
      "cell_type": "code",
      "metadata": {
        "code_folding": [
          0
        ],
        "id": "b3BgUKVdA2qy"
      },
      "source": [
        "# Adding temporary column for checking correlation ratio value\n",
        "intGeo = []\n",
        "for x in data[\"Geography\"]:\n",
        "    if x == \"France\":\n",
        "        intGeo.append(0)\n",
        "    elif x == \"Spain\":\n",
        "        intGeo.append(1)\n",
        "    else:\n",
        "        intGeo.append(2)\n",
        "        \n",
        "data[\"intGeo\"] = intGeo\n",
        "\n",
        "intGender = []\n",
        "for x in data[\"Gender\"]:\n",
        "    if x == \"Male\":\n",
        "        intGender.append(0)\n",
        "    else:\n",
        "        intGender.append(1)\n",
        "\n",
        "data[\"intGender\"] = intGender"
      ],
      "execution_count": 9,
      "outputs": []
    },
    {
      "cell_type": "code",
      "metadata": {
        "code_folding": [
          0
        ],
        "id": "hCrBGm35A2q2",
        "outputId": "be6d0a09-fc47-40a8-d0d4-df1d5d9fbfbc",
        "colab": {
          "base_uri": "https://localhost:8080/",
          "height": 376
        }
      },
      "source": [
        "# Correlation / association of each column\n",
        "temp = []\n",
        "for i in data.drop([\"Geography\", \"Gender\", \"ageRange\", \"Exited\"], 1).columns:\n",
        "    if len(data[i].unique()) <= 3:\n",
        "        temp.append({\"Column\" : i, \"Value\" : round(theils_u(data[i], data[\"Exited\"]), 5), \"\" : \"Theils U\"})\n",
        "    else:\n",
        "        temp.append({\"Column\" : i, \"Value\" : round(correlation_ratio(data[\"Exited\"], data[i]), 5), \"\" : \"Correlation Ratio\"})\n",
        "    \n",
        "print(\"Correlation / association value of each column :\")\n",
        "tempDF = pd.DataFrame(temp).sort_values(\"Value\", ascending = False).reset_index().drop(\"index\", 1)\n",
        "tempDF[\"Column\"] = tempDF[\"Column\"].apply(lambda x : x.replace(\"intGender\", \"Gender\").replace(\"intGeo\", \"Geography\"))\n",
        "display(tempDF)"
      ],
      "execution_count": 10,
      "outputs": [
        {
          "output_type": "stream",
          "text": [
            "Correlation / association value of each column :\n"
          ],
          "name": "stdout"
        },
        {
          "output_type": "display_data",
          "data": {
            "text/html": [
              "<div>\n",
              "<style scoped>\n",
              "    .dataframe tbody tr th:only-of-type {\n",
              "        vertical-align: middle;\n",
              "    }\n",
              "\n",
              "    .dataframe tbody tr th {\n",
              "        vertical-align: top;\n",
              "    }\n",
              "\n",
              "    .dataframe thead th {\n",
              "        text-align: right;\n",
              "    }\n",
              "</style>\n",
              "<table border=\"1\" class=\"dataframe\">\n",
              "  <thead>\n",
              "    <tr style=\"text-align: right;\">\n",
              "      <th></th>\n",
              "      <th>Column</th>\n",
              "      <th>Value</th>\n",
              "      <th></th>\n",
              "    </tr>\n",
              "  </thead>\n",
              "  <tbody>\n",
              "    <tr>\n",
              "      <th>0</th>\n",
              "      <td>Age</td>\n",
              "      <td>0.28532</td>\n",
              "      <td>Correlation Ratio</td>\n",
              "    </tr>\n",
              "    <tr>\n",
              "      <th>1</th>\n",
              "      <td>Balance</td>\n",
              "      <td>0.11853</td>\n",
              "      <td>Correlation Ratio</td>\n",
              "    </tr>\n",
              "    <tr>\n",
              "      <th>2</th>\n",
              "      <td>NumOfProducts</td>\n",
              "      <td>0.04782</td>\n",
              "      <td>Correlation Ratio</td>\n",
              "    </tr>\n",
              "    <tr>\n",
              "      <th>3</th>\n",
              "      <td>CreditScore</td>\n",
              "      <td>0.02709</td>\n",
              "      <td>Correlation Ratio</td>\n",
              "    </tr>\n",
              "    <tr>\n",
              "      <th>4</th>\n",
              "      <td>IsActiveMember</td>\n",
              "      <td>0.01774</td>\n",
              "      <td>Theils U</td>\n",
              "    </tr>\n",
              "    <tr>\n",
              "      <th>5</th>\n",
              "      <td>Tenure</td>\n",
              "      <td>0.01400</td>\n",
              "      <td>Correlation Ratio</td>\n",
              "    </tr>\n",
              "    <tr>\n",
              "      <th>6</th>\n",
              "      <td>Geography</td>\n",
              "      <td>0.01349</td>\n",
              "      <td>Theils U</td>\n",
              "    </tr>\n",
              "    <tr>\n",
              "      <th>7</th>\n",
              "      <td>EstimatedSalary</td>\n",
              "      <td>0.01210</td>\n",
              "      <td>Correlation Ratio</td>\n",
              "    </tr>\n",
              "    <tr>\n",
              "      <th>8</th>\n",
              "      <td>Gender</td>\n",
              "      <td>0.00820</td>\n",
              "      <td>Theils U</td>\n",
              "    </tr>\n",
              "    <tr>\n",
              "      <th>9</th>\n",
              "      <td>HasCrCard</td>\n",
              "      <td>0.00004</td>\n",
              "      <td>Theils U</td>\n",
              "    </tr>\n",
              "  </tbody>\n",
              "</table>\n",
              "</div>"
            ],
            "text/plain": [
              "            Column    Value                   \n",
              "0              Age  0.28532  Correlation Ratio\n",
              "1          Balance  0.11853  Correlation Ratio\n",
              "2    NumOfProducts  0.04782  Correlation Ratio\n",
              "3      CreditScore  0.02709  Correlation Ratio\n",
              "4   IsActiveMember  0.01774           Theils U\n",
              "5           Tenure  0.01400  Correlation Ratio\n",
              "6        Geography  0.01349           Theils U\n",
              "7  EstimatedSalary  0.01210  Correlation Ratio\n",
              "8           Gender  0.00820           Theils U\n",
              "9        HasCrCard  0.00004           Theils U"
            ]
          },
          "metadata": {
            "tags": []
          }
        }
      ]
    },
    {
      "cell_type": "markdown",
      "metadata": {
        "id": "YlZhcTf-A2q8"
      },
      "source": [
        "Since **HasCrCard** has no association with churn decision, we will eliminte them and focus ony on the top 9. Actually, **Gender** has no association too. But based on personal preferences and knowledge, we keep it to see how it contributes to analysis. This such **feature selection** will help us to determine which variables that have best impact on churn decision and thus maximize the model and its process. "
      ]
    },
    {
      "cell_type": "code",
      "metadata": {
        "code_folding": [],
        "id": "tAbHXDzXA2q9",
        "outputId": "efd4ed3b-6f02-42a3-e7a0-a3af49fdc369",
        "colab": {
          "base_uri": "https://localhost:8080/",
          "height": 97
        }
      },
      "source": [
        "# New structure\n",
        "print(\"New structure :\")\n",
        "data.drop([\"HasCrCard\"], 1, inplace = True)\n",
        "data = data[[\"Geography\", \"Age\", \"Gender\", \"intGender\", \"ageRange\", \"Balance\", \"EstimatedSalary\", \"CreditScore\", \"Tenure\", \"NumOfProducts\", \"IsActiveMember\", \"Exited\"]]\n",
        "display(data.head(1))"
      ],
      "execution_count": 11,
      "outputs": [
        {
          "output_type": "stream",
          "text": [
            "New structure :\n"
          ],
          "name": "stdout"
        },
        {
          "output_type": "display_data",
          "data": {
            "text/html": [
              "<div>\n",
              "<style scoped>\n",
              "    .dataframe tbody tr th:only-of-type {\n",
              "        vertical-align: middle;\n",
              "    }\n",
              "\n",
              "    .dataframe tbody tr th {\n",
              "        vertical-align: top;\n",
              "    }\n",
              "\n",
              "    .dataframe thead th {\n",
              "        text-align: right;\n",
              "    }\n",
              "</style>\n",
              "<table border=\"1\" class=\"dataframe\">\n",
              "  <thead>\n",
              "    <tr style=\"text-align: right;\">\n",
              "      <th></th>\n",
              "      <th>Geography</th>\n",
              "      <th>Age</th>\n",
              "      <th>Gender</th>\n",
              "      <th>intGender</th>\n",
              "      <th>ageRange</th>\n",
              "      <th>Balance</th>\n",
              "      <th>EstimatedSalary</th>\n",
              "      <th>CreditScore</th>\n",
              "      <th>Tenure</th>\n",
              "      <th>NumOfProducts</th>\n",
              "      <th>IsActiveMember</th>\n",
              "      <th>Exited</th>\n",
              "    </tr>\n",
              "  </thead>\n",
              "  <tbody>\n",
              "    <tr>\n",
              "      <th>0</th>\n",
              "      <td>France</td>\n",
              "      <td>42</td>\n",
              "      <td>Female</td>\n",
              "      <td>1</td>\n",
              "      <td>42 - 47</td>\n",
              "      <td>0.0</td>\n",
              "      <td>101348.88</td>\n",
              "      <td>619</td>\n",
              "      <td>2</td>\n",
              "      <td>1</td>\n",
              "      <td>1</td>\n",
              "      <td>1</td>\n",
              "    </tr>\n",
              "  </tbody>\n",
              "</table>\n",
              "</div>"
            ],
            "text/plain": [
              "  Geography  Age  Gender  ...  NumOfProducts IsActiveMember  Exited\n",
              "0    France   42  Female  ...              1              1       1\n",
              "\n",
              "[1 rows x 12 columns]"
            ]
          },
          "metadata": {
            "tags": []
          }
        }
      ]
    },
    {
      "cell_type": "code",
      "metadata": {
        "code_folding": [
          0
        ],
        "id": "D7uBSY2TA2rC",
        "outputId": "681c23e5-aa14-4bea-b769-890a8e5040a2",
        "colab": {
          "base_uri": "https://localhost:8080/"
        }
      },
      "source": [
        "# Checking anomaly\n",
        "print(\"Column non - binary that have 0 as value :\\n\")\n",
        "for i in data.drop(\"Exited\", 1).columns:\n",
        "    if len(data[i].unique()) > 3:\n",
        "        if 0 in data[i].unique():\n",
        "            print(i)"
      ],
      "execution_count": 12,
      "outputs": [
        {
          "output_type": "stream",
          "text": [
            "Column non - binary that have 0 as value :\n",
            "\n",
            "Balance\n",
            "Tenure\n"
          ],
          "name": "stdout"
        }
      ]
    },
    {
      "cell_type": "markdown",
      "metadata": {
        "id": "HpMZzgLNA2rG"
      },
      "source": [
        "0 as value in **Tenure** columns is still make sense since it indicates absence of customer's current credit transaction. However, 0 as value in **Balance** doesn't quite make sense on some cases. It is a common knowledge that bank have set a minimum value for customer's account, so even if customers withdrawn all of their money, the system force them to leave the minimum value.\n",
        "\n",
        "But, there's also some banks that allows their customers to empty their account. One of them is this bank we're working on, so we assumed this 0 value in **Balance** isn't an anomaly. Thus we **keep** them."
      ]
    },
    {
      "cell_type": "markdown",
      "metadata": {
        "id": "UfhKqNhMA2rH"
      },
      "source": [
        "## Customers Age"
      ]
    },
    {
      "cell_type": "code",
      "metadata": {
        "code_folding": [
          0
        ],
        "id": "XKeVY7yaA2rI",
        "outputId": "a5608c2d-2dad-4e0a-bbb3-a1f5e8333a8c",
        "colab": {
          "base_uri": "https://localhost:8080/",
          "height": 625
        }
      },
      "source": [
        "# Distribution\n",
        "print(\"\\nSkewness value : \", round(skew(data[\"Age\"]), 2))\n",
        "\n",
        "sns.distplot(data[\"Age\"], bins = 100, color = \"brown\")\n",
        "plt.title(\n",
        "        \"Age Distribution\",\n",
        "        fontdict = {\"fontsize\": 16,\n",
        "        \"fontweight\" : \"bold\",\n",
        "        \"color\" : \"black\",\n",
        "        \"verticalalignment\": \"baseline\",\n",
        "        \"horizontalalignment\": \"center\"\n",
        "        },\n",
        "        y = 1.03)\n",
        "plt.xlabel(\n",
        "    \"Years Old\",\n",
        "    fontdict = {\"weight\" : \"bold\"\n",
        "    })\n",
        "\n",
        "plt.show()\n",
        "\n",
        "# Outliers\n",
        "plt.boxplot(\n",
        "            data[\"Age\"],\n",
        "            widths = 0.25,\n",
        "            vert = False,\n",
        "            boxprops = {\n",
        "                \"facecolor\" : \"silver\",\n",
        "                \"linewidth\" : 0,\n",
        "                \"color\" : \"darkgoldenrod\"\n",
        "            },\n",
        "            patch_artist = True,\n",
        "            whiskerprops = {\n",
        "                \"ls\": \"solid\",\n",
        "                \"lw\": 1.5,\n",
        "                \"color\": \"black\"\n",
        "            },\n",
        "            showcaps = False)\n",
        "plt.title(\n",
        "        \"Outliers in Age\",\n",
        "        fontdict = {\"fontsize\": 16,\n",
        "        \"fontweight\" : \"bold\",\n",
        "        \"color\" : \"black\",\n",
        "        \"verticalalignment\": \"baseline\",\n",
        "        \"horizontalalignment\": \"center\"\n",
        "        },\n",
        "        y = 1.03)\n",
        "plt.yticks([])\n",
        "plt.xlabel(\n",
        "    \"Years Old\",\n",
        "    fontdict = {\"weight\" : \"bold\"\n",
        "    })\n",
        "\n",
        "plt.show()"
      ],
      "execution_count": 13,
      "outputs": [
        {
          "output_type": "stream",
          "text": [
            "\n",
            "Skewness value :  1.01\n"
          ],
          "name": "stdout"
        },
        {
          "output_type": "display_data",
          "data": {
            "image/png": "[encoded data removed]",
            "text/plain": [
              "<Figure size 432x288 with 1 Axes>"
            ]
          },
          "metadata": {
            "tags": [],
            "needs_background": "light"
          }
        },
        {
          "output_type": "display_data",
          "data": {
            "image/png": "[encoded data removed]",
            "text/plain": [
              "<Figure size 432x288 with 1 Axes>"
            ]
          },
          "metadata": {
            "tags": [],
            "needs_background": "light"
          }
        }
      ]
    },
    {
      "cell_type": "markdown",
      "metadata": {
        "id": "5fFvpJ4IA2rO"
      },
      "source": [
        "Age has a positive highly skewed distribution (right skewed). It means customers are centralized in middle age (32 - 44 years old). Meanwhile, old customers are very rare. "
      ]
    },
    {
      "cell_type": "code",
      "metadata": {
        "code_folding": [],
        "id": "Ywq5k6uTA2rP",
        "outputId": "c6bf25ca-a922-4ecd-9cf1-e36cbc279700",
        "colab": {
          "base_uri": "https://localhost:8080/",
          "height": 410
        }
      },
      "source": [
        "# Showing outliers\n",
        "upperFence = np.quantile(data[\"Age\"], .75) + (1.5 * iqr(data[\"Age\"]))\n",
        "print(\"Age upperFence : \", int(upperFence), \"years old\")\n",
        "print(\"Number of outliers : \", len (data[data[\"Age\"] > upperFence]), \"data\")\n",
        "print(\"Outliers sample :\")\n",
        "display(data[data[\"Age\"] > upperFence].head(10))"
      ],
      "execution_count": 14,
      "outputs": [
        {
          "output_type": "stream",
          "text": [
            "Age upperFence :  62 years old\n",
            "Number of outliers :  359 data\n",
            "Outliers sample :\n"
          ],
          "name": "stdout"
        },
        {
          "output_type": "display_data",
          "data": {
            "text/html": [
              "<div>\n",
              "<style scoped>\n",
              "    .dataframe tbody tr th:only-of-type {\n",
              "        vertical-align: middle;\n",
              "    }\n",
              "\n",
              "    .dataframe tbody tr th {\n",
              "        vertical-align: top;\n",
              "    }\n",
              "\n",
              "    .dataframe thead th {\n",
              "        text-align: right;\n",
              "    }\n",
              "</style>\n",
              "<table border=\"1\" class=\"dataframe\">\n",
              "  <thead>\n",
              "    <tr style=\"text-align: right;\">\n",
              "      <th></th>\n",
              "      <th>Geography</th>\n",
              "      <th>Age</th>\n",
              "      <th>Gender</th>\n",
              "      <th>intGender</th>\n",
              "      <th>ageRange</th>\n",
              "      <th>Balance</th>\n",
              "      <th>EstimatedSalary</th>\n",
              "      <th>CreditScore</th>\n",
              "      <th>Tenure</th>\n",
              "      <th>NumOfProducts</th>\n",
              "      <th>IsActiveMember</th>\n",
              "      <th>Exited</th>\n",
              "    </tr>\n",
              "  </thead>\n",
              "  <tbody>\n",
              "    <tr>\n",
              "      <th>58</th>\n",
              "      <td>Spain</td>\n",
              "      <td>66</td>\n",
              "      <td>Female</td>\n",
              "      <td>1</td>\n",
              "      <td>66 - 71</td>\n",
              "      <td>0.00</td>\n",
              "      <td>1643.11</td>\n",
              "      <td>511</td>\n",
              "      <td>4</td>\n",
              "      <td>1</td>\n",
              "      <td>0</td>\n",
              "      <td>1</td>\n",
              "    </tr>\n",
              "    <tr>\n",
              "      <th>85</th>\n",
              "      <td>Spain</td>\n",
              "      <td>75</td>\n",
              "      <td>Female</td>\n",
              "      <td>1</td>\n",
              "      <td>72 - 77</td>\n",
              "      <td>0.00</td>\n",
              "      <td>114675.75</td>\n",
              "      <td>652</td>\n",
              "      <td>10</td>\n",
              "      <td>2</td>\n",
              "      <td>1</td>\n",
              "      <td>0</td>\n",
              "    </tr>\n",
              "    <tr>\n",
              "      <th>104</th>\n",
              "      <td>Spain</td>\n",
              "      <td>65</td>\n",
              "      <td>Female</td>\n",
              "      <td>1</td>\n",
              "      <td>60 - 65</td>\n",
              "      <td>0.00</td>\n",
              "      <td>177655.68</td>\n",
              "      <td>670</td>\n",
              "      <td>1</td>\n",
              "      <td>1</td>\n",
              "      <td>1</td>\n",
              "      <td>1</td>\n",
              "    </tr>\n",
              "    <tr>\n",
              "      <th>158</th>\n",
              "      <td>France</td>\n",
              "      <td>73</td>\n",
              "      <td>Female</td>\n",
              "      <td>1</td>\n",
              "      <td>72 - 77</td>\n",
              "      <td>97259.25</td>\n",
              "      <td>104719.66</td>\n",
              "      <td>646</td>\n",
              "      <td>6</td>\n",
              "      <td>1</td>\n",
              "      <td>1</td>\n",
              "      <td>0</td>\n",
              "    </tr>\n",
              "    <tr>\n",
              "      <th>181</th>\n",
              "      <td>France</td>\n",
              "      <td>65</td>\n",
              "      <td>Male</td>\n",
              "      <td>0</td>\n",
              "      <td>60 - 65</td>\n",
              "      <td>0.00</td>\n",
              "      <td>48071.61</td>\n",
              "      <td>510</td>\n",
              "      <td>2</td>\n",
              "      <td>2</td>\n",
              "      <td>1</td>\n",
              "      <td>0</td>\n",
              "    </tr>\n",
              "    <tr>\n",
              "      <th>230</th>\n",
              "      <td>France</td>\n",
              "      <td>72</td>\n",
              "      <td>Male</td>\n",
              "      <td>0</td>\n",
              "      <td>72 - 77</td>\n",
              "      <td>0.00</td>\n",
              "      <td>111981.19</td>\n",
              "      <td>673</td>\n",
              "      <td>1</td>\n",
              "      <td>2</td>\n",
              "      <td>1</td>\n",
              "      <td>0</td>\n",
              "    </tr>\n",
              "    <tr>\n",
              "      <th>234</th>\n",
              "      <td>France</td>\n",
              "      <td>67</td>\n",
              "      <td>Female</td>\n",
              "      <td>1</td>\n",
              "      <td>66 - 71</td>\n",
              "      <td>113978.97</td>\n",
              "      <td>93146.11</td>\n",
              "      <td>585</td>\n",
              "      <td>5</td>\n",
              "      <td>2</td>\n",
              "      <td>1</td>\n",
              "      <td>0</td>\n",
              "    </tr>\n",
              "    <tr>\n",
              "      <th>243</th>\n",
              "      <td>Germany</td>\n",
              "      <td>67</td>\n",
              "      <td>Male</td>\n",
              "      <td>0</td>\n",
              "      <td>66 - 71</td>\n",
              "      <td>117411.60</td>\n",
              "      <td>45071.09</td>\n",
              "      <td>659</td>\n",
              "      <td>6</td>\n",
              "      <td>1</td>\n",
              "      <td>1</td>\n",
              "      <td>1</td>\n",
              "    </tr>\n",
              "    <tr>\n",
              "      <th>252</th>\n",
              "      <td>France</td>\n",
              "      <td>79</td>\n",
              "      <td>Female</td>\n",
              "      <td>1</td>\n",
              "      <td>78 - 83</td>\n",
              "      <td>0.00</td>\n",
              "      <td>170968.99</td>\n",
              "      <td>681</td>\n",
              "      <td>0</td>\n",
              "      <td>2</td>\n",
              "      <td>1</td>\n",
              "      <td>0</td>\n",
              "    </tr>\n",
              "    <tr>\n",
              "      <th>310</th>\n",
              "      <td>France</td>\n",
              "      <td>80</td>\n",
              "      <td>Female</td>\n",
              "      <td>1</td>\n",
              "      <td>78 - 83</td>\n",
              "      <td>0.00</td>\n",
              "      <td>188603.07</td>\n",
              "      <td>652</td>\n",
              "      <td>4</td>\n",
              "      <td>2</td>\n",
              "      <td>1</td>\n",
              "      <td>0</td>\n",
              "    </tr>\n",
              "  </tbody>\n",
              "</table>\n",
              "</div>"
            ],
            "text/plain": [
              "    Geography  Age  Gender  ...  NumOfProducts IsActiveMember  Exited\n",
              "58      Spain   66  Female  ...              1              0       1\n",
              "85      Spain   75  Female  ...              2              1       0\n",
              "104     Spain   65  Female  ...              1              1       1\n",
              "158    France   73  Female  ...              1              1       0\n",
              "181    France   65    Male  ...              2              1       0\n",
              "230    France   72    Male  ...              2              1       0\n",
              "234    France   67  Female  ...              2              1       0\n",
              "243   Germany   67    Male  ...              1              1       1\n",
              "252    France   79  Female  ...              2              1       0\n",
              "310    France   80  Female  ...              2              1       0\n",
              "\n",
              "[10 rows x 12 columns]"
            ]
          },
          "metadata": {
            "tags": []
          }
        }
      ]
    },
    {
      "cell_type": "markdown",
      "metadata": {
        "id": "-DbwPqnIA2rT"
      },
      "source": [
        "There's nothing wrong with the outliers. Beside, our goal is to predict all of the bank's customer, so no need to limit them by age. Hence we **keep** them."
      ]
    },
    {
      "cell_type": "code",
      "metadata": {
        "code_folding": [
          0
        ],
        "id": "UkCK1Q9tA2rV",
        "outputId": "ef746440-9f3d-4556-91e7-0ef7fbe6df7a",
        "colab": {
          "base_uri": "https://localhost:8080/",
          "height": 425
        }
      },
      "source": [
        "# Menampilkan bukti lanjutan korelasi antar variabel dengan scatter plot.\n",
        "# Oleh karena distribusi umur tidak normal, maka kita tidak bisa langsung menggunakan jumlah per kelompok sebagai perbandingan. \n",
        "# Untuk mensiasatinya, maka digunakan presentase per kelompok per keputusan (pindah / tidak pindah).\n",
        "\n",
        "# Showing how ageRange speaks about churn decision\n",
        "# We use proportion instead of total because of non - normal distribution age had\n",
        "ageProp = pd.crosstab(data[\"ageRange\"], data[\"Exited\"], normalize = \"index\") * 100\n",
        "\n",
        "# Using subplots to remove top and right frame\n",
        "fig, churnAge = plt.subplots(figsize = (16.3, 6))\n",
        "churnAge.spines[\"right\"].set_visible(False)\n",
        "churnAge.spines[\"top\"].set_visible(False)\n",
        "plt.grid(True)\n",
        "plt.scatter(ageProp.index, ageProp[1],\n",
        "            color = [\"grey\", \"grey\", \"grey\", \"grey\", \"grey\", \"red\", \"red\", \"red\", \"grey\", \"grey\", \"grey\", \"grey\", \"grey\"],\n",
        "            linewidths = 4, alpha = 0.45)\n",
        "plt.annotate(\"Positive (linear) correlation ends here\",\n",
        "            xy = (\"54 - 59\", 55),\n",
        "            xytext = (\"48 - 53\", 46.5),\n",
        "            fontsize = 13,\n",
        "            arrowprops = {\"facecolor\" : \"lightblue\", \"shrink\" : 0.1},\n",
        "            horizontalalignment = \"left\", verticalalignment = 'bottom')\n",
        "plt.title(\"Proportion of Customers Whose Exited Based on Age Range\", size = 15, weight = \"bold\", y = 1.05)\n",
        "plt.xlabel(\"Age Range\", size = 12)\n",
        "plt.ylabel(\"Customers (%)\", size = 12)\n",
        "plt.show()"
      ],
      "execution_count": 15,
      "outputs": [
        {
          "output_type": "display_data",
          "data": {
            "image/png": "[encoded data removed]",
            "text/plain": [
              "<Figure size 1173.6x432 with 1 Axes>"
            ]
          },
          "metadata": {
            "tags": [],
            "needs_background": "light"
          }
        }
      ]
    },
    {
      "cell_type": "markdown",
      "metadata": {
        "id": "rx8f4DNrA2rc"
      },
      "source": [
        "The highest proportion of churn appears on 48 - 65 years old customers with its peak on **54 - 59 years old**. Age range also turns out has a linear pattern, but **not fully linear**. The churn proportion decreasing quite significant entering 60 - 65 years old customers. This means, linear pattern (the older the customer is then chance for him to churn increases) only applied on **18 - 59** years old customers. Pattern becomes unpredictable outside that range. It does decrease from 60 - 65 to 78 - 83 years old, but it suddenly increases entering 84 - 89 years old.\n",
        "\n",
        "But again, we can't just focus on 18 - 59 years old customers, although they have a beautiful pattern. We still include the elder since our goal **has no limitation in age**."
      ]
    },
    {
      "cell_type": "markdown",
      "metadata": {
        "id": "BqaCHcEsA2rd"
      },
      "source": [
        "## Geography"
      ]
    },
    {
      "cell_type": "code",
      "metadata": {
        "code_folding": [
          0
        ],
        "id": "bzL2DLFSA2re",
        "outputId": "c4550843-d9ff-4180-a556-548bb3270685",
        "colab": {
          "base_uri": "https://localhost:8080/",
          "height": 356
        }
      },
      "source": [
        "# Distribution\n",
        "fig, churnCountry= plt.subplots(figsize = (8, 5))\n",
        "temp = data.groupby(\"Geography\").count()[[\"Age\"]]\n",
        "churnCountry.spines[\"top\"].set_visible(False)\n",
        "churnCountry.spines[\"right\"].set_visible(False)\n",
        "plt.bar(temp.index, temp[\"Age\"],\n",
        "       color = \"palegreen\",\n",
        "       linewidth = 1)\n",
        "\n",
        "plt.title(\"Country of Origin Distribution\", fontdict = {'fontsize': 14,\n",
        "        'fontweight' : \"bold\",\n",
        "        'color' : \"black\",\n",
        "        'verticalalignment': 'baseline',\n",
        "        'horizontalalignment': \"center\"\n",
        "        }, y = 1.07)\n",
        "plt.ylabel(\"Cusomers Count\")\n",
        "\n",
        "plt.show()"
      ],
      "execution_count": 16,
      "outputs": [
        {
          "output_type": "display_data",
          "data": {
            "image/png": "[encoded data removed]",
            "text/plain": [
              "<Figure size 576x360 with 1 Axes>"
            ]
          },
          "metadata": {
            "tags": [],
            "needs_background": "light"
          }
        }
      ]
    },
    {
      "cell_type": "markdown",
      "metadata": {
        "id": "VKSbXhPXA2ri"
      },
      "source": [
        "France is the most valuable country because it has the highest customers number. Meanwhile Germany and Spain shares quite same value. But how about it's association with churn decision?"
      ]
    },
    {
      "cell_type": "code",
      "metadata": {
        "code_folding": [
          0
        ],
        "id": "Z5Qo4MgIA2rj",
        "outputId": "9bd2c2c0-c1b6-4871-bcc3-2285967a4091",
        "colab": {
          "base_uri": "https://localhost:8080/",
          "height": 190
        }
      },
      "source": [
        "# Customers churn based on country\n",
        "temp = round((pd.crosstab(data[\"Geography\"], data[\"Exited\"], normalize = \"index\") * 100), 2).rename(\n",
        "    columns = {\n",
        "        0 : \"No (%)\", 1 : \"Yes (%)\"\n",
        "    }\n",
        "    )\n",
        "temp.columns.name = \"\"\n",
        "temp.index.name = \"Country of Origin\"\n",
        "\n",
        "print(\"Churn Percentage per country of origin :\")\n",
        "display(temp)"
      ],
      "execution_count": 17,
      "outputs": [
        {
          "output_type": "stream",
          "text": [
            "Churn Percentage per country of origin :\n"
          ],
          "name": "stdout"
        },
        {
          "output_type": "display_data",
          "data": {
            "text/html": [
              "<div>\n",
              "<style scoped>\n",
              "    .dataframe tbody tr th:only-of-type {\n",
              "        vertical-align: middle;\n",
              "    }\n",
              "\n",
              "    .dataframe tbody tr th {\n",
              "        vertical-align: top;\n",
              "    }\n",
              "\n",
              "    .dataframe thead th {\n",
              "        text-align: right;\n",
              "    }\n",
              "</style>\n",
              "<table border=\"1\" class=\"dataframe\">\n",
              "  <thead>\n",
              "    <tr style=\"text-align: right;\">\n",
              "      <th></th>\n",
              "      <th>No (%)</th>\n",
              "      <th>Yes (%)</th>\n",
              "    </tr>\n",
              "    <tr>\n",
              "      <th>Country of Origin</th>\n",
              "      <th></th>\n",
              "      <th></th>\n",
              "    </tr>\n",
              "  </thead>\n",
              "  <tbody>\n",
              "    <tr>\n",
              "      <th>France</th>\n",
              "      <td>83.85</td>\n",
              "      <td>16.15</td>\n",
              "    </tr>\n",
              "    <tr>\n",
              "      <th>Germany</th>\n",
              "      <td>67.56</td>\n",
              "      <td>32.44</td>\n",
              "    </tr>\n",
              "    <tr>\n",
              "      <th>Spain</th>\n",
              "      <td>83.33</td>\n",
              "      <td>16.67</td>\n",
              "    </tr>\n",
              "  </tbody>\n",
              "</table>\n",
              "</div>"
            ],
            "text/plain": [
              "                   No (%)  Yes (%)\n",
              "Country of Origin                 \n",
              "France              83.85    16.15\n",
              "Germany             67.56    32.44\n",
              "Spain               83.33    16.67"
            ]
          },
          "metadata": {
            "tags": []
          }
        }
      ]
    },
    {
      "cell_type": "markdown",
      "metadata": {
        "id": "7hsZhWgqA2rn"
      },
      "source": [
        "Turns out that France is not only valuable, but also their customers are very loyal. It has the highest percentage of retained customers and the lowest percentage of churned. On the other hand, Germany has the highest rate of churned customers."
      ]
    },
    {
      "cell_type": "code",
      "metadata": {
        "code_folding": [
          0
        ],
        "id": "EfGAs_5AA2rn",
        "outputId": "e77e4b78-5736-4963-c549-7c927bcf432c",
        "colab": {
          "base_uri": "https://localhost:8080/",
          "height": 370
        }
      },
      "source": [
        "# Customers gender whose churned based on country\n",
        "# Using proportion because it has non - normal distribution\n",
        "churnSegAge = pd.crosstab(data[data[\"Exited\"] == 1][\"Geography\"],\n",
        "                 data[data[\"Exited\"] == 1][\"Gender\"], normalize = \"index\") * 100\n",
        "\n",
        "fig, churnCountry = plt.subplots(figsize = (8, 5))\n",
        "churnCountry.spines[\"top\"].set_visible(False)\n",
        "churnCountry.spines[\"right\"].set_visible(False)\n",
        "plt.barh(churnSegAge.index, churnSegAge[\"Female\"],\n",
        "       color = \"pink\",\n",
        "       height = 0.3,\n",
        "       linewidth = 1)\n",
        "\n",
        "plt.barh(churnSegAge.index, churnSegAge[\"Male\"],\n",
        "       color = \"green\",\n",
        "       height = 0.3,\n",
        "       alpha = 0.5,\n",
        "       linewidth = 1)\n",
        "plt.legend((\"Female\", \"Male\"))\n",
        "plt.xlim(0, 60)\n",
        "plt.title(\"Proportion of Customers Whose Exited Based on Gender and Country of Origin\", fontdict = {'fontsize': 14,\n",
        "        'fontweight' : \"bold\",\n",
        "        'color' : \"black\",\n",
        "        'verticalalignment': 'baseline',\n",
        "        'horizontalalignment': \"center\"\n",
        "        }, y = 1.07)\n",
        "plt.xlabel(\"Customers (%)\")\n",
        "\n",
        "plt.show()"
      ],
      "execution_count": 18,
      "outputs": [
        {
          "output_type": "display_data",
          "data": {
            "image/png": "[encoded data removed]",
            "text/plain": [
              "<Figure size 576x360 with 1 Axes>"
            ]
          },
          "metadata": {
            "tags": [],
            "needs_background": "light"
          }
        }
      ]
    },
    {
      "cell_type": "markdown",
      "metadata": {
        "id": "HeCszaJ-A2rs"
      },
      "source": [
        "We have an interesting fact here. No matter what country does the customers come from, it is always female whose churn more than male. It's consistently stands above 43%. It is believed because of bad relation and experience with their Relationship Officer or Customer Service. Female tend to have more soft and sensitive behaviour. So, just a slight bad experience could ruin their day and emotion. Hence further review is needed for Relationship Officer and Customer Service team."
      ]
    },
    {
      "cell_type": "markdown",
      "metadata": {
        "id": "zbg3f7kiA2rs"
      },
      "source": [
        "## Balance"
      ]
    },
    {
      "cell_type": "code",
      "metadata": {
        "code_folding": [
          0
        ],
        "scrolled": false,
        "id": "U3MY3dzFA2rt",
        "outputId": "ffee481e-63e2-4159-b23c-457a2d2f0d44",
        "colab": {
          "base_uri": "https://localhost:8080/",
          "height": 625
        }
      },
      "source": [
        "# Distribution\n",
        "print(\"\\nSkewness value : \", round(skew(data[\"Balance\"]), 2))\n",
        "\n",
        "sns.distplot(data[\"Balance\"], bins = 50, color = \"teal\")\n",
        "plt.title(\n",
        "        \"Balance Distribution\",\n",
        "        fontdict = {\"fontsize\": 16,\n",
        "        \"fontweight\" : \"bold\",\n",
        "        \"color\" : \"black\",\n",
        "        \"verticalalignment\": \"baseline\",\n",
        "        \"horizontalalignment\": \"center\"\n",
        "        },\n",
        "        y = 1.03)\n",
        "plt.xlabel(\n",
        "    \"USD\",\n",
        "    fontdict = {\"weight\" : \"bold\"\n",
        "    })\n",
        "\n",
        "plt.show()\n",
        "\n",
        "# Outliers\n",
        "plt.boxplot(\n",
        "            data[\"Balance\"],\n",
        "            widths = 0.25,\n",
        "            vert = False,\n",
        "            boxprops = {\n",
        "                \"facecolor\" : \"silver\",\n",
        "                \"linewidth\" : 0,\n",
        "                \"color\" : \"darkgoldenrod\"\n",
        "            },\n",
        "            patch_artist = True,\n",
        "            whiskerprops = {\n",
        "                \"ls\": \"solid\",\n",
        "                \"lw\": 1.5,\n",
        "                \"color\": \"black\"\n",
        "            },\n",
        "            showcaps = False)\n",
        "plt.title(\n",
        "        \"Outliers in Balance\",\n",
        "        fontdict = {\"fontsize\": 16,\n",
        "        \"fontweight\" : \"bold\",\n",
        "        \"color\" : \"black\",\n",
        "        \"verticalalignment\": \"baseline\",\n",
        "        \"horizontalalignment\": \"center\"\n",
        "        },\n",
        "        y = 1.03)\n",
        "plt.yticks([])\n",
        "plt.xlabel(\n",
        "    \"USD\",\n",
        "    fontdict = {\"weight\" : \"bold\"\n",
        "    })\n",
        "\n",
        "plt.show()"
      ],
      "execution_count": 19,
      "outputs": [
        {
          "output_type": "stream",
          "text": [
            "\n",
            "Skewness value :  -0.14\n"
          ],
          "name": "stdout"
        },
        {
          "output_type": "display_data",
          "data": {
            "image/png": "[encoded data removed]",
            "text/plain": [
              "<Figure size 432x288 with 1 Axes>"
            ]
          },
          "metadata": {
            "tags": [],
            "needs_background": "light"
          }
        },
        {
          "output_type": "display_data",
          "data": {
            "image/png": "[encoded data removed]",
            "text/plain": [
              "<Figure size 432x288 with 1 Axes>"
            ]
          },
          "metadata": {
            "tags": [],
            "needs_background": "light"
          }
        }
      ]
    },
    {
      "cell_type": "markdown",
      "metadata": {
        "id": "L46RdUOwA2rw"
      },
      "source": [
        "Even tough many customers has 0 USD, balance distribution is still quite normal based on its skewness value. Hence there's no outliers found. No lower fence whisker at the boxplot means Q1 equal to minimum value."
      ]
    },
    {
      "cell_type": "markdown",
      "metadata": {
        "id": "FeTzxNIPA2rx"
      },
      "source": [
        "Regardless of its distribution, it's quite suspicious that why customers left no balance in their account. At least there's three assumptions to answer the question:\n",
        "\n",
        "**First**, this bank account isn't their primary bank account. It's possible that they join this bank just for one - time transaction only, e.g. special offer or big promotion by the bank.\n",
        "\n",
        "**Second**, customers do empty their account by normal transaction.\n",
        "\n",
        "**Third**, customers purposely empty their account because of churn decision. When they decided to exit, and maybe join another bank, they **transfer the whole account value to their new account**."
      ]
    },
    {
      "cell_type": "code",
      "metadata": {
        "code_folding": [
          0
        ],
        "id": "92Y1u4GwA2ry",
        "outputId": "1ffb5fdf-c606-4d95-f7b3-88e28fec3a07",
        "colab": {
          "base_uri": "https://localhost:8080/",
          "height": 129
        }
      },
      "source": [
        "# Proportion of 0 USD customers and >0 USD customers\n",
        "Perbandingan jumlah nasabah dengan saldo 0 USD dan di atas 0 USD\n",
        "fig, balanceProp = plt.subplots()\n",
        "percentage, label, chart = balanceProp.pie(\n",
        "        [(len(data[data[\"Balance\"] == 0]) / len(data)) * 100,\n",
        "        (len(data[data[\"Balance\"] != 0]) / len(data)) * 100],\n",
        "        explode = (.01, .05), labels = [\"0 USD\", \"> 0 USD\"], autopct = \"%1.1f%%\",\n",
        "        startangle = 90, colors = [\"darkblue\", \"grey\"], textprops = {\"size\" : 13,\"color\" : \"black\"},\n",
        "        radius = 1.2)\n",
        "\n",
        "plt.setp(chart, **{\"color\" : \"white\", \"weight\" :\"bold\", \"fontsize\" : 14})\n",
        "plt.title(\"Balance Proportion\", fontdict = {'fontsize': 14,\n",
        "        'fontweight' : \"bold\",\n",
        "        'color' : \"black\",\n",
        "        'verticalalignment': 'baseline',\n",
        "        'horizontalalignment': \"center\"\n",
        "        }, y = 1.05)\n",
        "\n",
        "plt.show()"
      ],
      "execution_count": 20,
      "outputs": [
        {
          "output_type": "error",
          "ename": "SyntaxError",
          "evalue": "ignored",
          "traceback": [
            "\u001b[0;36m  File \u001b[0;32m\"<ipython-input-20-df3654b7bf93>\"\u001b[0;36m, line \u001b[0;32m2\u001b[0m\n\u001b[0;31m    Perbandingan jumlah nasabah dengan saldo 0 USD dan di atas 0 USD\u001b[0m\n\u001b[0m                      ^\u001b[0m\n\u001b[0;31mSyntaxError\u001b[0m\u001b[0;31m:\u001b[0m invalid syntax\n"
          ]
        }
      ]
    },
    {
      "cell_type": "markdown",
      "metadata": {
        "id": "e_j0TvPfA2r3"
      },
      "source": [
        "36,2% isn't a small proportion. We have to look deeper to know if there's hidden correlation between 0 USD customers with churn decision."
      ]
    },
    {
      "cell_type": "code",
      "metadata": {
        "code_folding": [
          0
        ],
        "id": "1gCCKurdA2r3",
        "outputId": "79fbc6ad-0499-4d00-f600-b5fc66f90f4b",
        "colab": {
          "base_uri": "https://localhost:8080/",
          "height": 486
        }
      },
      "source": [
        "# Labeling each row according to their balance position\n",
        "data[\"balanceLabel\"] = data[\"Balance\"].apply(lambda x : \"0\" if x == 0 else \"> 0\")\n",
        "\n",
        "balanceProp = round((pd.crosstab(data[\"balanceLabel\"], data[\"Exited\"], normalize = \"index\") * 100), 2)\n",
        "\n",
        "# Memakai subplots karena ingin membuang frame bagian atas\n",
        "fig, churnBalance = plt.subplots(figsize = (6,7))\n",
        "churnBalance.spines[\"top\"].set_visible(False)\n",
        "plt.bar(balanceProp.index, balanceProp[0],\n",
        "       color = \"grey\",\n",
        "       width = 0.3,\n",
        "       linewidth = 1)\n",
        "\n",
        "plt.bar(balanceProp.index, balanceProp[1],\n",
        "       color = \"red\",\n",
        "       alpha = 0.75,\n",
        "       width = 0.3,\n",
        "       linewidth = 1)\n",
        "plt.legend((\"No\", \"Yes\"))\n",
        "plt.ylim(0, 90)\n",
        "plt.title(\"Proportion of Churned Customers Based on Balance Position\", fontdict = {'fontsize': 14,\n",
        "        'fontweight' : \"bold\",\n",
        "        'color' : \"black\",\n",
        "        'verticalalignment': 'baseline',\n",
        "        'horizontalalignment': \"center\"\n",
        "        }, y = 1.07)\n",
        "plt.xlabel(\"Balance (USD)\")\n",
        "plt.ylabel(\"Customers (%)\")\n",
        "\n",
        "plt.show()"
      ],
      "execution_count": 21,
      "outputs": [
        {
          "output_type": "display_data",
          "data": {
            "image/png": "[encoded data removed]",
            "text/plain": [
              "<Figure size 432x504 with 1 Axes>"
            ]
          },
          "metadata": {
            "tags": [],
            "needs_background": "light"
          }
        }
      ]
    },
    {
      "cell_type": "markdown",
      "metadata": {
        "id": "RfbUF46YA2r9"
      },
      "source": [
        "Graph shown above broke one of our assumptions that customers with 0 USD in balance are customers whose wanted to exit from the bank by emptying their whole balance. On the contrary, they tend to be loyal. Thus, we focus on customers whose balance is not 0 USD."
      ]
    },
    {
      "cell_type": "code",
      "metadata": {
        "code_folding": [
          0
        ],
        "id": "DPzUONbqA2r9",
        "outputId": "524eef37-eb81-4145-e3ee-8fad92ea145c",
        "colab": {
          "base_uri": "https://localhost:8080/",
          "height": 713
        }
      },
      "source": [
        "# Visualizing distribution of customers with balance above 0 USD\n",
        "fig, balanceMoreZero = plt.subplots(figsize = (7, 6))\n",
        "sns.stripplot(data[data[\"balanceLabel\"].str.contains(\"> 0\")][\"Exited\"], data[data[\"balanceLabel\"].str.contains(\"> 0\")][\"Balance\"],\n",
        "              hue = data[data[\"balanceLabel\"].str.contains(\"> 0\")][\"Gender\"],\n",
        "              palette = \"vlag_r\", jitter = True, dodge = True)\n",
        "plt.xlabel(\"Churn Decision\")\n",
        "plt.ylabel(\"Balance (USD)\")\n",
        "balanceMoreZero.set_xticklabels([\"No\", \"Yes\"])\n",
        "plt.title(\"Distribution of Customers With Balance >0 USD\", fontdict = {'fontsize': 14,\n",
        "        'fontweight' : \"bold\",\n",
        "        'color' : \"black\",\n",
        "        'verticalalignment': 'baseline',\n",
        "        'horizontalalignment': \"center\"\n",
        "        }, y = 1.03)\n",
        "plt.legend((\"Female\", \"Male\"))\n",
        "plt.show()\n",
        "print(\"\\n\")\n",
        "\n",
        "# Percentage of churn for customers with balance above 200.000 USD\n",
        "fig, priorMember = plt.subplots()\n",
        "percentage, label, chart = priorMember.pie(\n",
        "        [(data[data[\"Balance\"] > 200000].groupby(\"Exited\").count()[\"Gender\"][0] / data[data[\"Balance\"] > 200000].groupby(\"Exited\").count().sum()[0]) * 100,\n",
        "        (data[data[\"Balance\"] > 200000].groupby(\"Exited\").count()[\"Gender\"][1] / data[data[\"Balance\"] > 200000].groupby(\"Exited\").count().sum()[0]) * 100],\n",
        "        explode = (.01, .05), labels = [\"No\", \"Yes\"], autopct = \"%1.1f%%\",\n",
        "        startangle = 90, colors = [\"grey\", \"darkred\"], textprops = {\"size\" : 13,\"color\" : \"black\"},\n",
        "        radius = 1.2)\n",
        "\n",
        "plt.setp(chart, **{\"color\" : \"white\", \"weight\" :\"bold\", \"fontsize\" : 14})\n",
        "plt.title(\"Proportion of Churn Rate for Customers With Balance > 200.000 USD\", fontdict = {'fontsize': 14,\n",
        "        'fontweight' : \"bold\",\n",
        "        'color' : \"black\",\n",
        "        'verticalalignment': 'baseline',\n",
        "        'horizontalalignment': \"center\"\n",
        "        }, y = 1.07)\n",
        "\n",
        "plt.show()"
      ],
      "execution_count": 22,
      "outputs": [
        {
          "output_type": "display_data",
          "data": {
            "image/png": "[encoded data removed]",
            "text/plain": [
              "<Figure size 504x432 with 1 Axes>"
            ]
          },
          "metadata": {
            "tags": [],
            "needs_background": "light"
          }
        },
        {
          "output_type": "stream",
          "text": [
            "\n",
            "\n"
          ],
          "name": "stdout"
        },
        {
          "output_type": "display_data",
          "data": {
            "image/png": "[encoded data removed]",
            "text/plain": [
              "<Figure size 432x288 with 1 Axes>"
            ]
          },
          "metadata": {
            "tags": []
          }
        }
      ]
    },
    {
      "cell_type": "markdown",
      "metadata": {
        "id": "IQ4LTN2vA2sA"
      },
      "source": [
        "Either it is churned or not, the graph shows centralization on the range of 90.000 - 160.000 USD. But, customers whose staying appears more sporadic than than churned customers.\n",
        "\n",
        "Turns out the from the churned customers, we have most likely priority / special customers who has above 200.000 USD on their balance. These are customers that play vital role in the bank's cycle because of their great amount (bigger interest for bank, higher probability to apply loan / credit, etc). We just can't conclude that increment in balance followed by increment of churn propability. But, we found **small correlation** for those who have above 200.000 USD on their balance (see pie chart). On the other hand, gender seems not playing its role in this situation.\n",
        "\n",
        "We have two assumptions why this priority / special customers churned:\n",
        "- Difficulty on applying credit / loan (too much proses / bureaucracy).\n",
        "- The bank can't offer competing / profitable intereset compared to its competitor."
      ]
    },
    {
      "cell_type": "code",
      "metadata": {
        "code_folding": [
          0
        ],
        "id": "KWswisBfA2sB",
        "outputId": "5754da6b-4331-4cef-e4ae-3a152faf6c20",
        "colab": {
          "base_uri": "https://localhost:8080/",
          "height": 248
        }
      },
      "source": [
        "# Country of origin for priority and non - priority customers whose churned\n",
        "\n",
        "countryPrioChurn = custData[custData[\"Balance\"] > 200000][custData[custData[\"Balance\"] > 200000][\"Exited\"].astype(str).str.contains(\"1\")].groupby(\"Geography\").count()[\"Gender\"]\n",
        "countryPrio = custData[custData[\"Balance\"] > 200000].groupby(\"Geography\").count()[[\"Gender\"]].rename(columns = {\n",
        "    \"Gender\" : \"Total Customers\"\n",
        "}).sort_values(\"Total Customers\", ascending = False)\n",
        "countryPrio[\"Churn\"] = countryPrioChurn\n",
        "countryPrio[\"Churn\"] = countryPrio[\"Churn\"].fillna(0).astype(int)\n",
        "countryPrio[\"Churn (%)\"] = [(countryPrio[\"Churn\"][i] / countryPrio[\"Total Customers\"][i]) * 100 for i in countryPrio.index]\n",
        "\n",
        "print(\"Percentage of priority customers whose churned:\")\n",
        "display(countryPrio.drop(\"Churn\", 1))\n",
        "\n",
        "ordMemberChurn = custData[custData[\"Balance\"] < 200000][custData[custData[\"Balance\"] < 200000][\"Exited\"].astype(str).str.contains(\"1\")].groupby(\"Geography\").count()[\"Gender\"]\n",
        "ordMember = custData[custData[\"Balance\"] < 200000].groupby(\"Geography\")[[\"Gender\"]].count().sort_values(\"Gender\", ascending = False).rename(columns = {\n",
        "    \"Gender\" : \"Total Customers\"\n",
        "})\n",
        "ordMember[\"Churn\"] = ordMemberChurn\n",
        "ordMember[\"Churn (%)\"] = [round(((ordMember[\"Churn\"][i] / ordMember[\"Total Customers\"][i]) * 100), 1) for i in ordMember.index]\n",
        "\n",
        "print(\"\\n\\nPercentage of non - priority customers whose churned :\")\n",
        "display(ordMember.drop(\"Churn\", 1))"
      ],
      "execution_count": 23,
      "outputs": [
        {
          "output_type": "error",
          "ename": "NameError",
          "evalue": "ignored",
          "traceback": [
            "\u001b[0;31m---------------------------------------------------------------------------\u001b[0m",
            "\u001b[0;31mNameError\u001b[0m                                 Traceback (most recent call last)",
            "\u001b[0;32m<ipython-input-23-13efaf671e45>\u001b[0m in \u001b[0;36m<module>\u001b[0;34m()\u001b[0m\n\u001b[1;32m      1\u001b[0m \u001b[0;31m# Country of origin for priority and non - priority customers whose churned\u001b[0m\u001b[0;34m\u001b[0m\u001b[0;34m\u001b[0m\u001b[0;34m\u001b[0m\u001b[0m\n\u001b[1;32m      2\u001b[0m \u001b[0;34m\u001b[0m\u001b[0m\n\u001b[0;32m----> 3\u001b[0;31m \u001b[0mcountryPrioChurn\u001b[0m \u001b[0;34m=\u001b[0m \u001b[0mcustData\u001b[0m\u001b[0;34m[\u001b[0m\u001b[0mcustData\u001b[0m\u001b[0;34m[\u001b[0m\u001b[0;34m\"Balance\"\u001b[0m\u001b[0;34m]\u001b[0m \u001b[0;34m>\u001b[0m \u001b[0;36m200000\u001b[0m\u001b[0;34m]\u001b[0m\u001b[0;34m[\u001b[0m\u001b[0mcustData\u001b[0m\u001b[0;34m[\u001b[0m\u001b[0mcustData\u001b[0m\u001b[0;34m[\u001b[0m\u001b[0;34m\"Balance\"\u001b[0m\u001b[0;34m]\u001b[0m \u001b[0;34m>\u001b[0m \u001b[0;36m200000\u001b[0m\u001b[0;34m]\u001b[0m\u001b[0;34m[\u001b[0m\u001b[0;34m\"Exited\"\u001b[0m\u001b[0;34m]\u001b[0m\u001b[0;34m.\u001b[0m\u001b[0mastype\u001b[0m\u001b[0;34m(\u001b[0m\u001b[0mstr\u001b[0m\u001b[0;34m)\u001b[0m\u001b[0;34m.\u001b[0m\u001b[0mstr\u001b[0m\u001b[0;34m.\u001b[0m\u001b[0mcontains\u001b[0m\u001b[0;34m(\u001b[0m\u001b[0;34m\"1\"\u001b[0m\u001b[0;34m)\u001b[0m\u001b[0;34m]\u001b[0m\u001b[0;34m.\u001b[0m\u001b[0mgroupby\u001b[0m\u001b[0;34m(\u001b[0m\u001b[0;34m\"Geography\"\u001b[0m\u001b[0;34m)\u001b[0m\u001b[0;34m.\u001b[0m\u001b[0mcount\u001b[0m\u001b[0;34m(\u001b[0m\u001b[0;34m)\u001b[0m\u001b[0;34m[\u001b[0m\u001b[0;34m\"Gender\"\u001b[0m\u001b[0;34m]\u001b[0m\u001b[0;34m\u001b[0m\u001b[0;34m\u001b[0m\u001b[0m\n\u001b[0m\u001b[1;32m      4\u001b[0m countryPrio = custData[custData[\"Balance\"] > 200000].groupby(\"Geography\").count()[[\"Gender\"]].rename(columns = {\n\u001b[1;32m      5\u001b[0m     \u001b[0;34m\"Gender\"\u001b[0m \u001b[0;34m:\u001b[0m \u001b[0;34m\"Total Customers\"\u001b[0m\u001b[0;34m\u001b[0m\u001b[0;34m\u001b[0m\u001b[0m\n",
            "\u001b[0;31mNameError\u001b[0m: name 'custData' is not defined"
          ]
        }
      ]
    },
    {
      "cell_type": "markdown",
      "metadata": {
        "id": "rymEbjCuA2sE"
      },
      "source": [
        "Spain has the highest rate of churned priority customers. Meanwile, for non - priority customers, Germany is the highest. This means something wrong with the bank's representative in Spain or even with their local policy."
      ]
    },
    {
      "cell_type": "markdown",
      "metadata": {
        "id": "h8S_CTdAA2sE"
      },
      "source": [
        "## Customer Activeness"
      ]
    },
    {
      "cell_type": "code",
      "metadata": {
        "id": "4Zmg2FdSA2sF",
        "outputId": "f1f9029e-c588-4e15-e966-831ee4baadfd",
        "colab": {
          "base_uri": "https://localhost:8080/",
          "height": 180
        }
      },
      "source": [
        "activeMember = round((pd.crosstab(custData[\"IsActiveMember\"], custData[\"Exited\"], normalize = \"index\") * 100), 2)\n",
        "activeMember"
      ],
      "execution_count": 24,
      "outputs": [
        {
          "output_type": "error",
          "ename": "NameError",
          "evalue": "ignored",
          "traceback": [
            "\u001b[0;31m---------------------------------------------------------------------------\u001b[0m",
            "\u001b[0;31mNameError\u001b[0m                                 Traceback (most recent call last)",
            "\u001b[0;32m<ipython-input-24-215cee72d245>\u001b[0m in \u001b[0;36m<module>\u001b[0;34m()\u001b[0m\n\u001b[0;32m----> 1\u001b[0;31m \u001b[0mactiveMember\u001b[0m \u001b[0;34m=\u001b[0m \u001b[0mround\u001b[0m\u001b[0;34m(\u001b[0m\u001b[0;34m(\u001b[0m\u001b[0mpd\u001b[0m\u001b[0;34m.\u001b[0m\u001b[0mcrosstab\u001b[0m\u001b[0;34m(\u001b[0m\u001b[0mcustData\u001b[0m\u001b[0;34m[\u001b[0m\u001b[0;34m\"IsActiveMember\"\u001b[0m\u001b[0;34m]\u001b[0m\u001b[0;34m,\u001b[0m \u001b[0mcustData\u001b[0m\u001b[0;34m[\u001b[0m\u001b[0;34m\"Exited\"\u001b[0m\u001b[0;34m]\u001b[0m\u001b[0;34m,\u001b[0m \u001b[0mnormalize\u001b[0m \u001b[0;34m=\u001b[0m \u001b[0;34m\"index\"\u001b[0m\u001b[0;34m)\u001b[0m \u001b[0;34m*\u001b[0m \u001b[0;36m100\u001b[0m\u001b[0;34m)\u001b[0m\u001b[0;34m,\u001b[0m \u001b[0;36m2\u001b[0m\u001b[0;34m)\u001b[0m\u001b[0;34m\u001b[0m\u001b[0;34m\u001b[0m\u001b[0m\n\u001b[0m\u001b[1;32m      2\u001b[0m \u001b[0mactiveMember\u001b[0m\u001b[0;34m\u001b[0m\u001b[0;34m\u001b[0m\u001b[0m\n",
            "\u001b[0;31mNameError\u001b[0m: name 'custData' is not defined"
          ]
        }
      ]
    },
    {
      "cell_type": "code",
      "metadata": {
        "code_folding": [
          0
        ],
        "id": "5dqbbxoTA2sI"
      },
      "source": [
        "# Showing association\n",
        "activeMember = round((pd.crosstab(custData[\"IsActiveMember\"], custData[\"Exited\"], normalize = \"index\") * 100), 2)\n",
        "\n",
        "# Menggunakan subplots karena ingin mengurangi jumlah xticks dan mengganti xticklabels\n",
        "fig, activeMemberChurn = plt.subplots(figsize = (7, 7))\n",
        "plt.bar(activeMember.index-.06, activeMember[0],\n",
        "       color = \"black\",\n",
        "       alpha = 0.1,\n",
        "       width = .20,\n",
        "       linewidth = 0.25)\n",
        "\n",
        "plt.bar(activeMember.index, activeMember[1],\n",
        "       color = \"cyan\",\n",
        "       width = .20,\n",
        "       alpha = 0.75,\n",
        "       linewidth = 0.25)\n",
        "plt.locator_params(axis = \"x\", nbins = 2)\n",
        "activeMemberChurn.set_xticklabels([\"\", \"Not Active\", \"Active\"])\n",
        "activeMemberChurn.spines[\"top\"].set_visible(False)\n",
        "plt.xlabel(\"Customer Activeness Status\")\n",
        "plt.ylabel(\"Customers (%)\")\n",
        "plt.ylim(0, 90)\n",
        "plt.legend((\"Staying\", \"Churned\"))\n",
        "plt.title(\"Proportion of Churned Customers Based on Their Activeness\", fontdict = {'fontsize': 14,\n",
        "        'fontweight' : \"bold\",\n",
        "        'color' : \"black\",\n",
        "        'verticalalignment': 'baseline',\n",
        "        'horizontalalignment': \"center\"\n",
        "        }, y = 1.05)\n",
        "\n",
        "plt.show()"
      ],
      "execution_count": null,
      "outputs": []
    },
    {
      "cell_type": "markdown",
      "metadata": {
        "id": "OHW7Yif9A2sN"
      },
      "source": [
        "This variables looks normal dan rational if we compare with the reality. Basically, customers whose active in bank program / promotion won't be that easy to churn because they got many benefit. Customers whose not active on the other hand have higher churn possibility because of low loyalty and \"relation\" to the bank."
      ]
    },
    {
      "cell_type": "markdown",
      "metadata": {
        "id": "WSmEy7vMA2sO"
      },
      "source": [
        "## Credit Score"
      ]
    },
    {
      "cell_type": "code",
      "metadata": {
        "code_folding": [
          0
        ],
        "id": "u6WAE3hcA2sO",
        "outputId": "f0ea1d6e-a9bd-4d6a-a1bc-e660b1662206",
        "colab": {
          "base_uri": "https://localhost:8080/",
          "height": 625
        }
      },
      "source": [
        "# Distribution\n",
        "print(\"\\nSkewness value : \", round(skew(data[\"CreditScore\"]), 2))\n",
        "\n",
        "sns.distplot(data[\"CreditScore\"], bins = 50, color = \"crimson\")\n",
        "plt.title(\n",
        "        \"Credit Score Distribution\",\n",
        "        fontdict = {\"fontsize\": 16,\n",
        "        \"fontweight\" : \"bold\",\n",
        "        \"color\" : \"black\",\n",
        "        \"verticalalignment\": \"baseline\",\n",
        "        \"horizontalalignment\": \"center\"\n",
        "        },\n",
        "        y = 1.03)\n",
        "plt.xlabel(\n",
        "    \"Points\",\n",
        "    fontdict = {\"weight\" : \"bold\"\n",
        "    })\n",
        "\n",
        "plt.show()\n",
        "\n",
        "# Outliers\n",
        "plt.boxplot(\n",
        "            data[\"CreditScore\"],\n",
        "            widths = 0.25,\n",
        "            vert = False,\n",
        "            boxprops = {\n",
        "                \"facecolor\" : \"silver\",\n",
        "                \"linewidth\" : 0,\n",
        "                \"color\" : \"darkgoldenrod\"\n",
        "            },\n",
        "            patch_artist = True,\n",
        "            whiskerprops = {\n",
        "                \"ls\": \"solid\",\n",
        "                \"lw\": 1.5,\n",
        "                \"color\": \"black\"\n",
        "            },\n",
        "            showcaps = False)\n",
        "plt.title(\n",
        "        \"Outliers in Credit Score\",\n",
        "        fontdict = {\"fontsize\": 16,\n",
        "        \"fontweight\" : \"bold\",\n",
        "        \"color\" : \"black\",\n",
        "        \"verticalalignment\": \"baseline\",\n",
        "        \"horizontalalignment\": \"center\"\n",
        "        },\n",
        "        y = 1.03)\n",
        "plt.yticks([])\n",
        "plt.xlabel(\n",
        "    \"Points\",\n",
        "    fontdict = {\"weight\" : \"bold\"\n",
        "    })\n",
        "\n",
        "plt.show()"
      ],
      "execution_count": 25,
      "outputs": [
        {
          "output_type": "stream",
          "text": [
            "\n",
            "Skewness value :  -0.07\n"
          ],
          "name": "stdout"
        },
        {
          "output_type": "display_data",
          "data": {
            "image/png": "[encoded data removed]",
            "text/plain": [
              "<Figure size 432x288 with 1 Axes>"
            ]
          },
          "metadata": {
            "tags": [],
            "needs_background": "light"
          }
        },
        {
          "output_type": "display_data",
          "data": {
            "image/png": "[encoded data removed]",
            "text/plain": [
              "<Figure size 432x288 with 1 Axes>"
            ]
          },
          "metadata": {
            "tags": [],
            "needs_background": "light"
          }
        }
      ]
    },
    {
      "cell_type": "markdown",
      "metadata": {
        "id": "wsNnigyHA2sS"
      },
      "source": [
        "Credit score has a normal distribution, but a slight centralization on its higher value. This means customers with middle - high credit score is much more than those with low score. Because of that, we found outliers."
      ]
    },
    {
      "cell_type": "code",
      "metadata": {
        "code_folding": [
          0
        ],
        "id": "cFN__tz9A2sT",
        "outputId": "c5b67d1a-f149-463e-92bc-b326fb768384",
        "colab": {
          "base_uri": "https://localhost:8080/",
          "height": 565
        }
      },
      "source": [
        "# Showing outliers\n",
        "lowerFence = np.quantile(data[\"CreditScore\"], .25) - (1.5 * iqr(data[\"CreditScore\"]))\n",
        "print(\"Credit Score upperFence : \", int(lowerFence), \"points\")\n",
        "print(\"Number of outliers : \", len (data[data[\"CreditScore\"] < lowerFence]), \"data\")\n",
        "print(\"Outliers sample :\")\n",
        "display(data[data[\"CreditScore\"] < lowerFence])"
      ],
      "execution_count": 26,
      "outputs": [
        {
          "output_type": "stream",
          "text": [
            "Credit Score upperFence :  383 points\n",
            "Number of outliers :  15 data\n",
            "Outliers sample :\n"
          ],
          "name": "stdout"
        },
        {
          "output_type": "display_data",
          "data": {
            "text/html": [
              "<div>\n",
              "<style scoped>\n",
              "    .dataframe tbody tr th:only-of-type {\n",
              "        vertical-align: middle;\n",
              "    }\n",
              "\n",
              "    .dataframe tbody tr th {\n",
              "        vertical-align: top;\n",
              "    }\n",
              "\n",
              "    .dataframe thead th {\n",
              "        text-align: right;\n",
              "    }\n",
              "</style>\n",
              "<table border=\"1\" class=\"dataframe\">\n",
              "  <thead>\n",
              "    <tr style=\"text-align: right;\">\n",
              "      <th></th>\n",
              "      <th>Geography</th>\n",
              "      <th>Age</th>\n",
              "      <th>Gender</th>\n",
              "      <th>intGender</th>\n",
              "      <th>ageRange</th>\n",
              "      <th>Balance</th>\n",
              "      <th>EstimatedSalary</th>\n",
              "      <th>CreditScore</th>\n",
              "      <th>Tenure</th>\n",
              "      <th>NumOfProducts</th>\n",
              "      <th>IsActiveMember</th>\n",
              "      <th>Exited</th>\n",
              "      <th>balanceLabel</th>\n",
              "    </tr>\n",
              "  </thead>\n",
              "  <tbody>\n",
              "    <tr>\n",
              "      <th>7</th>\n",
              "      <td>Germany</td>\n",
              "      <td>29</td>\n",
              "      <td>Female</td>\n",
              "      <td>1</td>\n",
              "      <td>24 - 29</td>\n",
              "      <td>115046.74</td>\n",
              "      <td>119346.88</td>\n",
              "      <td>376</td>\n",
              "      <td>4</td>\n",
              "      <td>4</td>\n",
              "      <td>0</td>\n",
              "      <td>1</td>\n",
              "      <td>&gt; 0</td>\n",
              "    </tr>\n",
              "    <tr>\n",
              "      <th>942</th>\n",
              "      <td>France</td>\n",
              "      <td>46</td>\n",
              "      <td>Female</td>\n",
              "      <td>1</td>\n",
              "      <td>42 - 47</td>\n",
              "      <td>0.00</td>\n",
              "      <td>157333.69</td>\n",
              "      <td>376</td>\n",
              "      <td>6</td>\n",
              "      <td>1</td>\n",
              "      <td>0</td>\n",
              "      <td>1</td>\n",
              "      <td>0</td>\n",
              "    </tr>\n",
              "    <tr>\n",
              "      <th>1193</th>\n",
              "      <td>Spain</td>\n",
              "      <td>28</td>\n",
              "      <td>Female</td>\n",
              "      <td>1</td>\n",
              "      <td>24 - 29</td>\n",
              "      <td>146098.43</td>\n",
              "      <td>100615.14</td>\n",
              "      <td>363</td>\n",
              "      <td>6</td>\n",
              "      <td>3</td>\n",
              "      <td>0</td>\n",
              "      <td>1</td>\n",
              "      <td>&gt; 0</td>\n",
              "    </tr>\n",
              "    <tr>\n",
              "      <th>1405</th>\n",
              "      <td>France</td>\n",
              "      <td>44</td>\n",
              "      <td>Female</td>\n",
              "      <td>1</td>\n",
              "      <td>42 - 47</td>\n",
              "      <td>128747.69</td>\n",
              "      <td>146955.71</td>\n",
              "      <td>359</td>\n",
              "      <td>6</td>\n",
              "      <td>1</td>\n",
              "      <td>0</td>\n",
              "      <td>1</td>\n",
              "      <td>&gt; 0</td>\n",
              "    </tr>\n",
              "    <tr>\n",
              "      <th>1631</th>\n",
              "      <td>Spain</td>\n",
              "      <td>54</td>\n",
              "      <td>Male</td>\n",
              "      <td>0</td>\n",
              "      <td>54 - 59</td>\n",
              "      <td>152677.48</td>\n",
              "      <td>191973.49</td>\n",
              "      <td>350</td>\n",
              "      <td>1</td>\n",
              "      <td>1</td>\n",
              "      <td>1</td>\n",
              "      <td>1</td>\n",
              "      <td>&gt; 0</td>\n",
              "    </tr>\n",
              "    <tr>\n",
              "      <th>1838</th>\n",
              "      <td>Germany</td>\n",
              "      <td>39</td>\n",
              "      <td>Male</td>\n",
              "      <td>0</td>\n",
              "      <td>36 - 41</td>\n",
              "      <td>109733.20</td>\n",
              "      <td>123602.11</td>\n",
              "      <td>350</td>\n",
              "      <td>0</td>\n",
              "      <td>2</td>\n",
              "      <td>0</td>\n",
              "      <td>1</td>\n",
              "      <td>&gt; 0</td>\n",
              "    </tr>\n",
              "    <tr>\n",
              "      <th>1962</th>\n",
              "      <td>Spain</td>\n",
              "      <td>52</td>\n",
              "      <td>Female</td>\n",
              "      <td>1</td>\n",
              "      <td>48 - 53</td>\n",
              "      <td>143542.36</td>\n",
              "      <td>141959.11</td>\n",
              "      <td>358</td>\n",
              "      <td>8</td>\n",
              "      <td>3</td>\n",
              "      <td>0</td>\n",
              "      <td>1</td>\n",
              "      <td>&gt; 0</td>\n",
              "    </tr>\n",
              "    <tr>\n",
              "      <th>2473</th>\n",
              "      <td>Germany</td>\n",
              "      <td>57</td>\n",
              "      <td>Female</td>\n",
              "      <td>1</td>\n",
              "      <td>54 - 59</td>\n",
              "      <td>163146.46</td>\n",
              "      <td>169621.69</td>\n",
              "      <td>351</td>\n",
              "      <td>4</td>\n",
              "      <td>1</td>\n",
              "      <td>0</td>\n",
              "      <td>1</td>\n",
              "      <td>&gt; 0</td>\n",
              "    </tr>\n",
              "    <tr>\n",
              "      <th>2579</th>\n",
              "      <td>Germany</td>\n",
              "      <td>30</td>\n",
              "      <td>Male</td>\n",
              "      <td>0</td>\n",
              "      <td>30 - 35</td>\n",
              "      <td>127760.07</td>\n",
              "      <td>81537.85</td>\n",
              "      <td>365</td>\n",
              "      <td>0</td>\n",
              "      <td>1</td>\n",
              "      <td>0</td>\n",
              "      <td>1</td>\n",
              "      <td>&gt; 0</td>\n",
              "    </tr>\n",
              "    <tr>\n",
              "      <th>8154</th>\n",
              "      <td>Spain</td>\n",
              "      <td>42</td>\n",
              "      <td>Male</td>\n",
              "      <td>0</td>\n",
              "      <td>42 - 47</td>\n",
              "      <td>93608.28</td>\n",
              "      <td>168816.73</td>\n",
              "      <td>367</td>\n",
              "      <td>6</td>\n",
              "      <td>1</td>\n",
              "      <td>0</td>\n",
              "      <td>1</td>\n",
              "      <td>&gt; 0</td>\n",
              "    </tr>\n",
              "    <tr>\n",
              "      <th>8723</th>\n",
              "      <td>France</td>\n",
              "      <td>51</td>\n",
              "      <td>Male</td>\n",
              "      <td>0</td>\n",
              "      <td>48 - 53</td>\n",
              "      <td>0.00</td>\n",
              "      <td>125823.79</td>\n",
              "      <td>350</td>\n",
              "      <td>10</td>\n",
              "      <td>1</td>\n",
              "      <td>1</td>\n",
              "      <td>1</td>\n",
              "      <td>0</td>\n",
              "    </tr>\n",
              "    <tr>\n",
              "      <th>8762</th>\n",
              "      <td>France</td>\n",
              "      <td>60</td>\n",
              "      <td>Female</td>\n",
              "      <td>1</td>\n",
              "      <td>60 - 65</td>\n",
              "      <td>0.00</td>\n",
              "      <td>113796.15</td>\n",
              "      <td>350</td>\n",
              "      <td>3</td>\n",
              "      <td>1</td>\n",
              "      <td>0</td>\n",
              "      <td>1</td>\n",
              "      <td>0</td>\n",
              "    </tr>\n",
              "    <tr>\n",
              "      <th>9210</th>\n",
              "      <td>Spain</td>\n",
              "      <td>36</td>\n",
              "      <td>Male</td>\n",
              "      <td>0</td>\n",
              "      <td>36 - 41</td>\n",
              "      <td>0.00</td>\n",
              "      <td>179540.73</td>\n",
              "      <td>382</td>\n",
              "      <td>0</td>\n",
              "      <td>1</td>\n",
              "      <td>1</td>\n",
              "      <td>1</td>\n",
              "      <td>0</td>\n",
              "    </tr>\n",
              "    <tr>\n",
              "      <th>9356</th>\n",
              "      <td>France</td>\n",
              "      <td>42</td>\n",
              "      <td>Male</td>\n",
              "      <td>0</td>\n",
              "      <td>42 - 47</td>\n",
              "      <td>0.00</td>\n",
              "      <td>77786.37</td>\n",
              "      <td>373</td>\n",
              "      <td>7</td>\n",
              "      <td>1</td>\n",
              "      <td>0</td>\n",
              "      <td>1</td>\n",
              "      <td>0</td>\n",
              "    </tr>\n",
              "    <tr>\n",
              "      <th>9624</th>\n",
              "      <td>France</td>\n",
              "      <td>40</td>\n",
              "      <td>Female</td>\n",
              "      <td>1</td>\n",
              "      <td>36 - 41</td>\n",
              "      <td>111098.85</td>\n",
              "      <td>172321.21</td>\n",
              "      <td>350</td>\n",
              "      <td>0</td>\n",
              "      <td>1</td>\n",
              "      <td>1</td>\n",
              "      <td>1</td>\n",
              "      <td>&gt; 0</td>\n",
              "    </tr>\n",
              "  </tbody>\n",
              "</table>\n",
              "</div>"
            ],
            "text/plain": [
              "     Geography  Age  Gender  ...  IsActiveMember Exited  balanceLabel\n",
              "7      Germany   29  Female  ...               0      1           > 0\n",
              "942     France   46  Female  ...               0      1             0\n",
              "1193     Spain   28  Female  ...               0      1           > 0\n",
              "1405    France   44  Female  ...               0      1           > 0\n",
              "1631     Spain   54    Male  ...               1      1           > 0\n",
              "1838   Germany   39    Male  ...               0      1           > 0\n",
              "1962     Spain   52  Female  ...               0      1           > 0\n",
              "2473   Germany   57  Female  ...               0      1           > 0\n",
              "2579   Germany   30    Male  ...               0      1           > 0\n",
              "8154     Spain   42    Male  ...               0      1           > 0\n",
              "8723    France   51    Male  ...               1      1             0\n",
              "8762    France   60  Female  ...               0      1             0\n",
              "9210     Spain   36    Male  ...               1      1             0\n",
              "9356    France   42    Male  ...               0      1             0\n",
              "9624    France   40  Female  ...               1      1           > 0\n",
              "\n",
              "[15 rows x 13 columns]"
            ]
          },
          "metadata": {
            "tags": []
          }
        }
      ]
    },
    {
      "cell_type": "markdown",
      "metadata": {
        "id": "RtrnbhEaA2sW"
      },
      "source": [
        "These outliers mean nothing because its very low number. Thus we do nothing about it."
      ]
    },
    {
      "cell_type": "code",
      "metadata": {
        "code_folding": [
          0
        ],
        "id": "Mp-HGIJgA2sX",
        "outputId": "ea4c381b-0137-4de2-a723-6c929c96a9de",
        "colab": {
          "base_uri": "https://localhost:8080/",
          "height": 488
        }
      },
      "source": [
        "# Correlation\n",
        "plt.figure(figsize = (8, 5))\n",
        "sns.violinplot(data[\"Exited\"], data[\"CreditScore\"])\n",
        "plt.title(\n",
        "        \"Credit Score and Churn Decision Correlation\",\n",
        "        fontdict = {\"fontsize\": 16,\n",
        "        \"fontweight\" : \"bold\",\n",
        "        \"color\" : \"black\",\n",
        "        \"verticalalignment\": \"baseline\",\n",
        "        \"horizontalalignment\": \"center\"\n",
        "        },\n",
        "        y = 1.03)\n",
        "plt.ylabel(\n",
        "    \"Points\",\n",
        "    fontdict = {\"weight\" : \"bold\"\n",
        "    })\n",
        "plt.xlabel(\n",
        "    \"Churn Decision\",\n",
        "    fontdict = {\"weight\" : \"bold\"\n",
        "    })\n",
        "\n",
        "plt.xticks((0, 1), (\"No\", \"Yes\"))\n",
        "\n",
        "plt.show()\n",
        "\n",
        "temp = data.groupby(\"Exited\").mean().rename(columns = {\"CreditScore\" : \"Credit Score (Points)\"})[[\"Credit Score (Points)\"]]\n",
        "temp.index.name = \"Churn Decision\"\n",
        "temp.index = [\"No\", \"Yes\"]\n",
        "print(\"\\nCredit score average per decision :\")\n",
        "display(temp)"
      ],
      "execution_count": 27,
      "outputs": [
        {
          "output_type": "display_data",
          "data": {
            "image/png": "[encoded data removed]",
            "text/plain": [
              "<Figure size 576x360 with 1 Axes>"
            ]
          },
          "metadata": {
            "tags": [],
            "needs_background": "light"
          }
        },
        {
          "output_type": "stream",
          "text": [
            "\n",
            "Credit score average per decision :\n"
          ],
          "name": "stdout"
        },
        {
          "output_type": "display_data",
          "data": {
            "text/html": [
              "<div>\n",
              "<style scoped>\n",
              "    .dataframe tbody tr th:only-of-type {\n",
              "        vertical-align: middle;\n",
              "    }\n",
              "\n",
              "    .dataframe tbody tr th {\n",
              "        vertical-align: top;\n",
              "    }\n",
              "\n",
              "    .dataframe thead th {\n",
              "        text-align: right;\n",
              "    }\n",
              "</style>\n",
              "<table border=\"1\" class=\"dataframe\">\n",
              "  <thead>\n",
              "    <tr style=\"text-align: right;\">\n",
              "      <th></th>\n",
              "      <th>Credit Score (Points)</th>\n",
              "    </tr>\n",
              "  </thead>\n",
              "  <tbody>\n",
              "    <tr>\n",
              "      <th>No</th>\n",
              "      <td>651.853196</td>\n",
              "    </tr>\n",
              "    <tr>\n",
              "      <th>Yes</th>\n",
              "      <td>645.351497</td>\n",
              "    </tr>\n",
              "  </tbody>\n",
              "</table>\n",
              "</div>"
            ],
            "text/plain": [
              "     Credit Score (Points)\n",
              "No              651.853196\n",
              "Yes             645.351497"
            ]
          },
          "metadata": {
            "tags": []
          }
        }
      ]
    },
    {
      "cell_type": "markdown",
      "metadata": {
        "id": "V1IiSCMHA2sb"
      },
      "source": [
        "There's no significant impact from credit score."
      ]
    },
    {
      "cell_type": "markdown",
      "metadata": {
        "id": "6uSvJApUA2sc"
      },
      "source": [
        "# Modelling"
      ]
    },
    {
      "cell_type": "markdown",
      "metadata": {
        "id": "6yoXy5sF5nhL"
      },
      "source": [
        "## Base Model"
      ]
    },
    {
      "cell_type": "markdown",
      "metadata": {
        "id": "jSP3t7iDBh6R"
      },
      "source": [
        "Base Model is used to see potential algorithms. Later, only those potentials will be tuned to maximazie the model."
      ]
    },
    {
      "cell_type": "markdown",
      "metadata": {
        "id": "Lx-6iJQRC8eu"
      },
      "source": [
        "### Preparation"
      ]
    },
    {
      "cell_type": "code",
      "metadata": {
        "id": "P9W2AkwnA2sf"
      },
      "source": [
        "# Using One Hot Encoding to encode \"Geography\"\n",
        "data = pd.get_dummies(data = data, columns = [\"Geography\"])"
      ],
      "execution_count": 28,
      "outputs": []
    },
    {
      "cell_type": "markdown",
      "metadata": {
        "id": "CzVwCxnVA2sj"
      },
      "source": [
        "For **Gender**, we don't use One Hot Encoding since it's a binary. Besides, we already defined it as **intGender**."
      ]
    },
    {
      "cell_type": "code",
      "metadata": {
        "id": "cFrF_0TzA2sn",
        "outputId": "ca0f7c8f-fa94-4ad7-f9bd-c5fdde85024f",
        "colab": {
          "base_uri": "https://localhost:8080/",
          "height": 159
        }
      },
      "source": [
        "# Data Proportion\n",
        "print(\"Target proportion\")\n",
        "temp = (pd.crosstab(data[\"Exited\"], columns = \"count\", normalize = \"columns\") * 100).rename(columns = {\"count\" : \"Percentage\"})\n",
        "temp.columns.name = \"\"\n",
        "temp.index.name = \"Churn Decision\"\n",
        "display(temp)"
      ],
      "execution_count": 31,
      "outputs": [
        {
          "output_type": "stream",
          "text": [
            "Target proportion\n"
          ],
          "name": "stdout"
        },
        {
          "output_type": "display_data",
          "data": {
            "text/html": [
              "<div>\n",
              "<style scoped>\n",
              "    .dataframe tbody tr th:only-of-type {\n",
              "        vertical-align: middle;\n",
              "    }\n",
              "\n",
              "    .dataframe tbody tr th {\n",
              "        vertical-align: top;\n",
              "    }\n",
              "\n",
              "    .dataframe thead th {\n",
              "        text-align: right;\n",
              "    }\n",
              "</style>\n",
              "<table border=\"1\" class=\"dataframe\">\n",
              "  <thead>\n",
              "    <tr style=\"text-align: right;\">\n",
              "      <th></th>\n",
              "      <th>Percentage</th>\n",
              "    </tr>\n",
              "    <tr>\n",
              "      <th>Churn Decision</th>\n",
              "      <th></th>\n",
              "    </tr>\n",
              "  </thead>\n",
              "  <tbody>\n",
              "    <tr>\n",
              "      <th>0</th>\n",
              "      <td>79.63</td>\n",
              "    </tr>\n",
              "    <tr>\n",
              "      <th>1</th>\n",
              "      <td>20.37</td>\n",
              "    </tr>\n",
              "  </tbody>\n",
              "</table>\n",
              "</div>"
            ],
            "text/plain": [
              "                Percentage\n",
              "Churn Decision            \n",
              "0                    79.63\n",
              "1                    20.37"
            ]
          },
          "metadata": {
            "tags": []
          }
        }
      ]
    },
    {
      "cell_type": "markdown",
      "metadata": {
        "id": "4hub8sbODQQT"
      },
      "source": [
        "Because the data is quite imbalanced, we use random over sampling technique to handle this."
      ]
    },
    {
      "cell_type": "code",
      "metadata": {
        "id": "8G5-TjBuDPgk",
        "outputId": "1ee3dd06-1593-45f9-c299-b082d9265457",
        "colab": {
          "base_uri": "https://localhost:8080/",
          "height": 159
        }
      },
      "source": [
        "# Random Over Sampling\n",
        "churnNo, churnYes = data[data[\"Exited\"] == 0], data[data[\"Exited\"] == 1]\n",
        "churnYesOS = resample(churnYes, replace = True, n_samples = len(churnNo), random_state = 7)\n",
        "\n",
        "dataOS = pd.concat([churnNo, churnYesOS])\n",
        "\n",
        "print(\"Oversampled data :\")\n",
        "temp = (pd.crosstab(dataOS[\"Exited\"], columns = \"count\", normalize = \"columns\") * 100).rename(columns = {\"count\" : \"Percentage\"})\n",
        "temp.columns.name = \"\"\n",
        "temp.index.name = \"Churn Decision\"\n",
        "display(temp)"
      ],
      "execution_count": 38,
      "outputs": [
        {
          "output_type": "stream",
          "text": [
            "Oversampled data :\n"
          ],
          "name": "stdout"
        },
        {
          "output_type": "display_data",
          "data": {
            "text/html": [
              "<div>\n",
              "<style scoped>\n",
              "    .dataframe tbody tr th:only-of-type {\n",
              "        vertical-align: middle;\n",
              "    }\n",
              "\n",
              "    .dataframe tbody tr th {\n",
              "        vertical-align: top;\n",
              "    }\n",
              "\n",
              "    .dataframe thead th {\n",
              "        text-align: right;\n",
              "    }\n",
              "</style>\n",
              "<table border=\"1\" class=\"dataframe\">\n",
              "  <thead>\n",
              "    <tr style=\"text-align: right;\">\n",
              "      <th></th>\n",
              "      <th>Percentage</th>\n",
              "    </tr>\n",
              "    <tr>\n",
              "      <th>Churn Decision</th>\n",
              "      <th></th>\n",
              "    </tr>\n",
              "  </thead>\n",
              "  <tbody>\n",
              "    <tr>\n",
              "      <th>0</th>\n",
              "      <td>50.0</td>\n",
              "    </tr>\n",
              "    <tr>\n",
              "      <th>1</th>\n",
              "      <td>50.0</td>\n",
              "    </tr>\n",
              "  </tbody>\n",
              "</table>\n",
              "</div>"
            ],
            "text/plain": [
              "                Percentage\n",
              "Churn Decision            \n",
              "0                     50.0\n",
              "1                     50.0"
            ]
          },
          "metadata": {
            "tags": []
          }
        }
      ]
    },
    {
      "cell_type": "code",
      "metadata": {
        "id": "dTrRtC9B5nhM"
      },
      "source": [
        "# Splitting Data\n",
        "X = data.drop([\"Gender\", \"ageRange\", \"balanceLabel\", \"Exited\"], 1)\n",
        "y = data[\"Exited\"]\n",
        "\n",
        "X_train, X_test, y_train, y_test = train_test_split(X, y, stratify = y, test_size = 0.2, random_state = 7)"
      ],
      "execution_count": 40,
      "outputs": []
    },
    {
      "cell_type": "code",
      "metadata": {
        "id": "5Xi25kZV81yI"
      },
      "source": [
        "# Algorithms\n",
        "# Random Forest Classifier\n",
        "RanFor = RandomForestClassifier().fit(X_train, y_train)\n",
        "RanForPredTrain = RanFor.predict(X_train)\n",
        "RanForPredTest = RanFor.predict(X_test)\n",
        "\n",
        "# Support Vector Machine Classifier\n",
        "SVM = SVC().fit(X_train, y_train)\n",
        "SVMPredTrain = SVM.predict(X_train)\n",
        "SVMPredTest = SVM.predict(X_test)\n",
        "\n",
        "# Extreme Gradient Boosting Classifier\n",
        "XGB = XGBClassifier().fit(X_train, y_train)\n",
        "XGBPredTrain = XGB.predict(X_train)\n",
        "XGBPredTest = XGB.predict(X_test)"
      ],
      "execution_count": 41,
      "outputs": []
    },
    {
      "cell_type": "code",
      "metadata": {
        "id": "vCYI9s5rF8vg",
        "outputId": "bfae83f3-bfb8-46e4-b562-b21ee29ce08c",
        "colab": {
          "base_uri": "https://localhost:8080/",
          "height": 1000
        }
      },
      "source": [
        "# Evaluation Metrics\n",
        "# Random Forest Classifier\n",
        "temptrain = confusion_matrix(y_train, RanForPredTrain, labels = [1, 0])\n",
        "temptrain = pd.DataFrame(temptrain, index = [\"Act Churn\", \"Act Staying\"], columns = [\"Pred Churn\", \"Pred Staying\"])\n",
        "temptest = confusion_matrix(y_test, RanForPredTest, labels = [1, 0])\n",
        "temptest = pd.DataFrame(temptest, index = [\"Act Churn\", \"Act Staying\"], columns = [\"Pred Churn\", \"Pred Staying\"])\n",
        "print(\"Random Forest Classifier :\\n\")\n",
        "plt.figure(figsize = (15, 6))\n",
        "plt.subplot(1, 2, 1)\n",
        "sns.heatmap(temptrain, annot = True, fmt = 'g')\n",
        "plt.title(\"Train\", fontdict = {\"weight\" : \"bold\"})\n",
        "plt.subplot(1, 2, 2)\n",
        "sns.heatmap(temptest, annot = True, fmt = 'g')\n",
        "plt.title(\"Test\", fontdict = {\"weight\" : \"bold\"})\n",
        "plt.show()\n",
        "\n",
        "# Support Vector Machine Classifier\n",
        "temptrain = confusion_matrix(y_train, SVMPredTrain, labels = [1, 0])\n",
        "temptrain = pd.DataFrame(temptrain, index = [\"Act Churn\", \"Act Staying\"], columns = [\"Pred Churn\", \"Pred Staying\"])\n",
        "temptest = confusion_matrix(y_test, SVMPredTest, labels = [1, 0])\n",
        "temptest = pd.DataFrame(temptest, index = [\"Act Churn\", \"Act Staying\"], columns = [\"Pred Churn\", \"Pred Staying\"])\n",
        "print(\"\\nSVM Classifier :\\n\")\n",
        "plt.figure(figsize = (15, 6))\n",
        "plt.subplot(1, 2, 1)\n",
        "sns.heatmap(temptrain, annot = True, fmt = 'g')\n",
        "plt.title(\"Train\", fontdict = {\"weight\" : \"bold\"})\n",
        "plt.subplot(1, 2, 2)\n",
        "sns.heatmap(temptest, annot = True, fmt = 'g')\n",
        "plt.title(\"Test\", fontdict = {\"weight\" : \"bold\"})\n",
        "plt.show()\n",
        "\n",
        "# Extreme Gradient Boositng Classifier\n",
        "temptrain = confusion_matrix(y_train, XGBPredTrain, labels = [1, 0])\n",
        "temptrain = pd.DataFrame(temptrain, index = [\"Act Churn\", \"Act Staying\"], columns = [\"Pred Churn\", \"Pred Staying\"])\n",
        "temptest = confusion_matrix(y_test, XGBPredTest, labels = [1, 0])\n",
        "temptest = pd.DataFrame(temptest, index = [\"Act Churn\", \"Act Staying\"], columns = [\"Pred Churn\", \"Pred Staying\"])\n",
        "print(\"\\nXGB Classifier :\\n\")\n",
        "plt.figure(figsize = (15, 6))\n",
        "plt.subplot(1, 2, 1)\n",
        "sns.heatmap(temptrain, annot = True, fmt = 'g')\n",
        "plt.title(\"Train\", fontdict = {\"weight\" : \"bold\"})\n",
        "plt.subplot(1, 2, 2)\n",
        "sns.heatmap(temptest, annot = True, fmt = 'g')\n",
        "plt.title(\"Test\", fontdict = {\"weight\" : \"bold\"})\n",
        "plt.show()"
      ],
      "execution_count": 61,
      "outputs": [
        {
          "output_type": "stream",
          "text": [
            "Random Forest Classifier :\n",
            "\n"
          ],
          "name": "stdout"
        },
        {
          "output_type": "display_data",
          "data": {
            "image/png": "[encoded data removed]",
            "text/plain": [
              "<Figure size 1080x432 with 4 Axes>"
            ]
          },
          "metadata": {
            "tags": [],
            "needs_background": "light"
          }
        },
        {
          "output_type": "stream",
          "text": [
            "\n",
            "SVM Classifier :\n",
            "\n"
          ],
          "name": "stdout"
        },
        {
          "output_type": "display_data",
          "data": {
            "image/png": "[encoded data removed]",
            "text/plain": [
              "<Figure size 1080x432 with 4 Axes>"
            ]
          },
          "metadata": {
            "tags": [],
            "needs_background": "light"
          }
        },
        {
          "output_type": "stream",
          "text": [
            "\n",
            "XGB Classifier :\n",
            "\n"
          ],
          "name": "stdout"
        },
        {
          "output_type": "display_data",
          "data": {
            "image/png": "[encoded data removed]",
            "text/plain": [
              "<Figure size 1080x432 with 4 Axes>"
            ]
          },
          "metadata": {
            "tags": [],
            "needs_background": "light"
          }
        }
      ]
    },
    {
      "cell_type": "markdown",
      "metadata": {
        "id": "DANgfkatKeiD"
      },
      "source": [
        "In this context, the most important thing for the machine is it can suppress the error of predicting **churn to staying (False Negative)**. We can't tolerate this error because failing to predict churned customers make the machine useless. Besides, we'll get many loss if this type of error is high. Take an example of customer A whose actually wanted to exit, but the machine tells us he's most likely staying. The bank and its team lose opportunity to retain him. Also dont't forget problems followed by it (as stated in the beggining). So, the FN error is very crucial. Thus, we focus on **recall score**.\n",
        "\n",
        "On the other hand, **False Positive or error in predicting staying to churn** can be tolerated. Take an example of customer A again. He won't most likely to leave the bank, but the machine tells us he'll exit. There's no loss for the bank at this point. The only effort it spends is contacting, ensuring problem, and fixing the communication approcah for the related customers. It only cost the bank time (and maybe phone bill?), so this error doesn't really matter.\n",
        "\n",
        "SVM Classifier is the worst model of all. It even fails to predict **all churned customers** in the train data. Meanwhile, the best model is Random Forest Classifier, where its FN score is the lowest. XGB also did quite good in reducing FN score on test data (7 points gap with Random Forest). But, Random Forest still have the best train score of all, even tough it seems **overfit**. To maximize those model, we will perform **hyper parameter tuning**."
      ]
    },
    {
      "cell_type": "code",
      "metadata": {
        "id": "08oPG1atKZwo"
      },
      "source": [
        ""
      ],
      "execution_count": null,
      "outputs": []
    },
    {
      "cell_type": "markdown",
      "metadata": {
        "id": "JpPFGS0uOl8B"
      },
      "source": [
        "## Tuned Model"
      ]
    },
    {
      "cell_type": "markdown",
      "metadata": {
        "id": "RkYJtgEMOot1"
      },
      "source": [
        "**Hyper Parameter Tuning**"
      ]
    },
    {
      "cell_type": "markdown",
      "metadata": {
        "id": "N7goynoUO0Qr"
      },
      "source": [
        "### Random Forest Classifier\n",
        "\n",
        "Random Forest doesn't need scaling to maximize its model since it's a tree based algorithm. Hence we jump in to Hyper Parameter Tuning."
      ]
    },
    {
      "cell_type": "code",
      "metadata": {
        "id": "-TB2vyQaA2s2",
        "outputId": "8af4fa02-56a6-44d7-b0c1-80eeeca47ca3",
        "colab": {
          "base_uri": "https://localhost:8080/"
        }
      },
      "source": [
        "RanForTuned = RandomizedSearchCV(\n",
        "    estimator = RandomForestClassifier(),\n",
        "    param_distributions = {\n",
        "        \"n_estimators\" : [100, 300, 500],\n",
        "        \"max_depth\" : [None, 5, 7, 9],\n",
        "        \"min_samples_split\" : [5, 15, 25],\n",
        "        \"min_samples_leaf\" : [2, 7, 10],\n",
        "        \"max_features\" : [\"auto\", .3, .5],\n",
        "        \"min_impurity_decrease\" : [0, 0.5, 0.7]\n",
        "        }, cv = 3, n_jobs = -1, verbose = 1, scoring = \"recall\"\n",
        "    )\n",
        "\n",
        "RanForTuned.fit(X_train, y_train)"
      ],
      "execution_count": 65,
      "outputs": [
        {
          "output_type": "stream",
          "text": [
            "Fitting 3 folds for each of 10 candidates, totalling 30 fits\n"
          ],
          "name": "stdout"
        },
        {
          "output_type": "stream",
          "text": [
            "[Parallel(n_jobs=-1)]: Using backend LokyBackend with 2 concurrent workers.\n",
            "[Parallel(n_jobs=-1)]: Done  30 out of  30 | elapsed:   27.4s finished\n"
          ],
          "name": "stderr"
        },
        {
          "output_type": "execute_result",
          "data": {
            "text/plain": [
              "RandomizedSearchCV(cv=3, error_score=nan,\n",
              "                   estimator=RandomForestClassifier(bootstrap=True,\n",
              "                                                    ccp_alpha=0.0,\n",
              "                                                    class_weight=None,\n",
              "                                                    criterion='gini',\n",
              "                                                    max_depth=None,\n",
              "                                                    max_features='auto',\n",
              "                                                    max_leaf_nodes=None,\n",
              "                                                    max_samples=None,\n",
              "                                                    min_impurity_decrease=0.0,\n",
              "                                                    min_impurity_split=None,\n",
              "                                                    min_samples_leaf=1,\n",
              "                                                    min_samples_split=2,\n",
              "                                                    min_weight_fraction_leaf=0.0,\n",
              "                                                    n_estimators=100,\n",
              "                                                    n_jobs...\n",
              "                                                    warm_start=False),\n",
              "                   iid='deprecated', n_iter=10, n_jobs=-1,\n",
              "                   param_distributions={'max_depth': [None, 5, 7, 9],\n",
              "                                        'max_features': ['auto', 0.3, 0.5],\n",
              "                                        'min_impurity_decrease': [0, 0.5, 0.7],\n",
              "                                        'min_samples_leaf': [2, 7, 10],\n",
              "                                        'min_samples_split': [5, 15, 25],\n",
              "                                        'n_estimators': [100, 300, 500]},\n",
              "                   pre_dispatch='2*n_jobs', random_state=None, refit=True,\n",
              "                   return_train_score=False, scoring='recall', verbose=1)"
            ]
          },
          "metadata": {
            "tags": []
          },
          "execution_count": 65
        }
      ]
    },
    {
      "cell_type": "code",
      "metadata": {
        "id": "bGlp5XK4RB7Q",
        "outputId": "7a66cd8d-59d3-4962-b201-5e1779cdc65c",
        "colab": {
          "base_uri": "https://localhost:8080/",
          "height": 848
        }
      },
      "source": [
        "# Evaluation Metrics\n",
        "bestRanForTuned = RanForTuned.best_estimator_\n",
        "bestRanForTunedPredTest = bestRanForTuned.predict(X_test)\n",
        "bestRanForTunedPredTrain = bestRanForTuned.predict(X_train)\n",
        "\n",
        "print(\"Recall score for train data : \", recall_score(y_train, bestRanForTunedPredTrain), \"\\n\")\n",
        "temptrain = confusion_matrix(y_train, bestRanForTunedPredTrain, labels = [1, 0])\n",
        "temptrain = pd.DataFrame(temptrain, index = [\"Act Churn\", \"Act Staying\"], columns = [\"Pred Churn\", \"Pred Staying\"])\n",
        "plt.figure(figsize = (8, 6))\n",
        "sns.heatmap(temptrain, annot = True, fmt = 'g')\n",
        "plt.title(\"Train\", fontdict = {\"weight\" : \"bold\"})\n",
        "plt.show()\n",
        "\n",
        "print(\"\\nRecall score for test data : \", recall_score(y_test, bestRanForTunedPredTrain), \"\\n\")\n",
        "temptest = confusion_matrix(y_test, bestRanForTunedPredTest, labels = [1, 0])\n",
        "temptest = pd.DataFrame(temptest, index = [\"Act Churn\", \"Act Staying\"], columns = [\"Pred Churn\", \"Pred Staying\"])\n",
        "plt.figure(figsize = (8, 6))\n",
        "sns.heatmap(temptest, annot = True, fmt = 'g')\n",
        "plt.title(\"Test\", fontdict = {\"weight\" : \"bold\"})\n",
        "plt.show()"
      ],
      "execution_count": 67,
      "outputs": [
        {
          "output_type": "stream",
          "text": [
            "Recall score for train data :  [0 0 0 ... 0 0 0] \n",
            "\n"
          ],
          "name": "stdout"
        },
        {
          "output_type": "display_data",
          "data": {
            "image/png": "[encoded data removed]",
            "text/plain": [
              "<Figure size 576x432 with 2 Axes>"
            ]
          },
          "metadata": {
            "tags": [],
            "needs_background": "light"
          }
        },
        {
          "output_type": "stream",
          "text": [
            "\n",
            "Recall score for test data :  [0 0 0 ... 0 0 0] \n",
            "\n"
          ],
          "name": "stdout"
        },
        {
          "output_type": "display_data",
          "data": {
            "image/png": "[encoded data removed]",
            "text/plain": [
              "<Figure size 576x432 with 2 Axes>"
            ]
          },
          "metadata": {
            "tags": [],
            "needs_background": "light"
          }
        }
      ]
    },
    {
      "cell_type": "markdown",
      "metadata": {
        "id": "3YyoIZFIA2s1"
      },
      "source": [
        "# Rekomendasi\n",
        "\n",
        "1. Lakukan *training* dan *screening* terhadap para RO yang menangani nasabah **wanita berusia 48 - 59 tahun**, terlepas dari mana negara asalanya. Besar kemungkinan permasalahan ini akibat buruknya manajemen hubungan mereka dengan nasabah. Opsi lainnya adalah merekrut ataupun menukar RO terkait dengan yang sudah berpengalaman. Divisi lain yang perlu diperbaiki adalah Customer Service. Kami meyakini bahwa buruknya penanganan masalah dan keluhan lewat CS juga turut memberi dampak, mengingat nasabah dalam kelompok ini cenderung lebih perasa.\n",
        "2. Segera lakukan pendekatan khusus bagi nasabah prioritas (memiliki saldo di atas 200.000 USD) di Perancis dan Spanyol. Dua negara ini adalah sumber utama nasabah prioritas kita. Namun, disarankan agar pengembangan dan perbaikan difokuskan ke Spanyol. Hal ini dikarenakan presentase kepindahannya adalah yang tertinggi. Kami sarankan agar tim analis - bisnis **mengkaji ulang tingkat bunga yang ditwarkan** karena kemungkinan besar terlalu tinggi jika dibandingkan dengan bank swasta / daerah lain di Spanyol dan Perancis. **Penyesuaian dan kompromi dalam memberi pinjaman** pada nasabah prioritas di dua negara ini juga patut menjadi pertimbangan. Pasalnya, nasabah prioritas cenderung memiliki tingkat kredit produktif yang lebih tinggi dibandingkan nasabah biasa.\n",
        "3. Dalam konteks nasabah biasa (memiliki saldo di bawah 200.000 USD), tidak ditemukan pengaruh khusus dalam variabel data. Namun, yang menarik adalah bahwa Jerman menjadi lumbung terbesar nasabah yang pindah. Ada dua kemungkinan disini: **Pertama**, konteks sosial - budaya - ekonomi Jerman yang belum tim kita mengerti penuh (sehingga diperlukan studi perbandingan lebih lanjut untuk memahaminya) dan **kedua** ada permasalahan sistem internal di Bank Purwad cabang Jerman. Maka itu kami menawarkan **dua solusi**:\n",
        "    - Segera pahami dan pelajari konteks nasabah di Jerman kemudian bentuk program / manajemen baru yang dikhususkan untuk pasar setempat.\n",
        "    - Segera investigasi dan perbaiki permasalahan dalam tubuh organisasi Bank Purwad Jerman."
      ]
    }
  ]
}